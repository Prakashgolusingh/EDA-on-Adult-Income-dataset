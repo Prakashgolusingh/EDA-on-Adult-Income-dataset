{
 "cells": [
  {
   "cell_type": "markdown",
   "id": "9963b0a1",
   "metadata": {
    "id": "mKhneUmNkwN9",
    "papermill": {
     "duration": 0.023586,
     "end_time": "2023-11-10T22:00:42.895584",
     "exception": false,
     "start_time": "2023-11-10T22:00:42.871998",
     "status": "completed"
    },
    "tags": []
   },
   "source": [
    " **Your Feedback and suggestion would be helpful for my learning**\n",
    "\n",
    "Dataset -- **Adult Income**\n",
    "\n",
    "\n",
    "About the dataset --\n",
    "    The Adult dataset is from the Census Bureau and the task is to predict whether a given adult makes more than $50,000 a year based attributes such as education, hours of work per week, etc..\n",
    "\n",
    "further more you can read about it --\n",
    "download the dataset  --\n",
    "    https://archive.ics.uci.edu/dataset/2/adult\n",
    "\n",
    "It consider to be a good practice to get knowledge about dataset as much as possible, it going to help in building our model.\n",
    "Task - Perform defferent steps of EDA on choosen dataset."
   ]
  },
  {
   "cell_type": "code",
   "execution_count": 1,
   "id": "9e7d1417",
   "metadata": {
    "execution": {
     "iopub.execute_input": "2023-11-10T22:00:42.944287Z",
     "iopub.status.busy": "2023-11-10T22:00:42.943788Z",
     "iopub.status.idle": "2023-11-10T22:00:45.838983Z",
     "shell.execute_reply": "2023-11-10T22:00:45.837525Z"
    },
    "executionInfo": {
     "elapsed": 532,
     "status": "ok",
     "timestamp": 1699032282779,
     "user": {
      "displayName": "Prakash Singh",
      "userId": "12192818067739007778"
     },
     "user_tz": -330
    },
    "id": "rDd4hRTz30CM",
    "papermill": {
     "duration": 2.923478,
     "end_time": "2023-11-10T22:00:45.842384",
     "exception": false,
     "start_time": "2023-11-10T22:00:42.918906",
     "status": "completed"
    },
    "tags": []
   },
   "outputs": [],
   "source": [
    "# importing necessary libraries\n",
    "import pandas as pd\n",
    "import matplotlib.pyplot as plt\n",
    "import seaborn as sns\n",
    "import numpy as np\n",
    "from sklearn.preprocessing import StandardScaler\n",
    "from sklearn.model_selection import train_test_split\n",
    "from sklearn.metrics import accuracy_score, mean_squared_error, f1_score, classification_report, precision_score, recall_score, confusion_matrix\n",
    "from sklearn.linear_model import LogisticRegression"
   ]
  },
  {
   "cell_type": "code",
   "execution_count": 2,
   "id": "e4df960a",
   "metadata": {
    "execution": {
     "iopub.execute_input": "2023-11-10T22:00:45.893154Z",
     "iopub.status.busy": "2023-11-10T22:00:45.892562Z",
     "iopub.status.idle": "2023-11-10T22:00:46.057986Z",
     "shell.execute_reply": "2023-11-10T22:00:46.056838Z"
    },
    "executionInfo": {
     "elapsed": 19,
     "status": "ok",
     "timestamp": 1699032283272,
     "user": {
      "displayName": "Prakash Singh",
      "userId": "12192818067739007778"
     },
     "user_tz": -330
    },
    "id": "VlgWcOGv4V9I",
    "papermill": {
     "duration": 0.195431,
     "end_time": "2023-11-10T22:00:46.061184",
     "exception": false,
     "start_time": "2023-11-10T22:00:45.865753",
     "status": "completed"
    },
    "tags": []
   },
   "outputs": [],
   "source": [
    "df = pd.read_csv('/kaggle/input/adult-census-income/adult.csv') # Loading the dataset"
   ]
  },
  {
   "cell_type": "code",
   "execution_count": 3,
   "id": "93df25b1",
   "metadata": {
    "execution": {
     "iopub.execute_input": "2023-11-10T22:00:46.113334Z",
     "iopub.status.busy": "2023-11-10T22:00:46.111725Z",
     "iopub.status.idle": "2023-11-10T22:00:46.121206Z",
     "shell.execute_reply": "2023-11-10T22:00:46.120069Z"
    },
    "executionInfo": {
     "elapsed": 20,
     "status": "ok",
     "timestamp": 1699032283273,
     "user": {
      "displayName": "Prakash Singh",
      "userId": "12192818067739007778"
     },
     "user_tz": -330
    },
    "id": "Kk2AOI3z71KJ",
    "outputId": "4e8b02cc-7908-4810-d228-d8c287dee658",
    "papermill": {
     "duration": 0.039425,
     "end_time": "2023-11-10T22:00:46.123982",
     "exception": false,
     "start_time": "2023-11-10T22:00:46.084557",
     "status": "completed"
    },
    "tags": []
   },
   "outputs": [
    {
     "data": {
      "text/plain": [
       "(32561, 15)"
      ]
     },
     "execution_count": 3,
     "metadata": {},
     "output_type": "execute_result"
    }
   ],
   "source": [
    "df.shape # printing shape to get idea about no. of rows and columns, even though i have some background knowledge about dataset."
   ]
  },
  {
   "cell_type": "markdown",
   "id": "600e125a",
   "metadata": {
    "id": "-fzDeC098HPN",
    "papermill": {
     "duration": 0.023882,
     "end_time": "2023-11-10T22:00:46.171952",
     "exception": false,
     "start_time": "2023-11-10T22:00:46.148070",
     "status": "completed"
    },
    "tags": []
   },
   "source": [
    "So we total have 48842 rows and 15 features\n",
    "\n",
    "\n"
   ]
  },
  {
   "cell_type": "markdown",
   "id": "17e2715f",
   "metadata": {
    "id": "GqS6azkYtKYv",
    "papermill": {
     "duration": 0.024117,
     "end_time": "2023-11-10T22:00:46.221263",
     "exception": false,
     "start_time": "2023-11-10T22:00:46.197146",
     "status": "completed"
    },
    "tags": []
   },
   "source": [
    "Attribute Information:\n",
    "\n",
    "**age:** continuous.\n",
    "\n",
    "**workclass:** Private, Self-emp-not-inc, Self-emp-inc, Federal-gov, Local-gov, State-gov, Without-pay, Never-worked.\n",
    "\n",
    "**fnlwgt:** continuous.\n",
    "\n",
    "**education:** Bachelors, Some-college, 11th, HS-grad, Prof-school, Assoc-acdm, Assoc-voc, 9th, 7th-8th, 12th, Masters, 1st-4th, 10th, Doctorate, 5th-6th, Preschool.\n",
    "\n",
    "**education-num:** continuous.\n",
    "\n",
    "**marital-status:** Married-civ-spouse, Divorced, Never-married, Separated, Widowed, Married-spouse-absent, Married-AF-spouse.\n",
    "\n",
    "**occupation:** Tech-support, Craft-repair, Other-service, Sales, Exec-managerial, Prof-specialty, Handlers-cleaners, Machine-op-inspct, Adm-clerical, Farming-fishing, Transport-moving, Priv-house-serv, Protective-serv, Armed-Forces.\n",
    "\n",
    "**relationship:** Wife, Own-child, Husband, Not-in-family, Other-relative, Unmarried.\n",
    "\n",
    "**race:** White, Asian-Pac-Islander, Amer-Indian-Eskimo, Other, Black.\n",
    "\n",
    "**sex:** Female, Male.\n",
    "\n",
    "**capital-gain:** continuous.\n",
    "\n",
    "**capital-loss:** continuous.\n",
    "\n",
    "**hours-per-week:** continuous.\n",
    "\n",
    "**native-country:** United-States, Cambodia, England, Puerto-Rico, Canada, Germany, Outlying-US(Guam-USVI-etc), India, Japan, Greece, South, China, Cuba, Iran, Honduras, Philippines, Italy, Poland, Jamaica, Vietnam, Mexico, Portugal, Ireland, France, Dominican-Republic, Laos, Ecuador, Taiwan, Haiti, Columbia, Hungary, Guatemala, Nicaragua, Scotland, Thailand, Yugoslavia,El-Salvador, Trinadad&Tobago, Peru, Hong, Holand-Netherlands. class: >50K, <=50K\n",
    "\n",
    "**Notes for Delve**\n",
    "One prototask (income) has been defined, using attributes 1-13 as inputs and income level as a binary target.\n",
    "\n",
    "Missing values - These are confined to attributes 2 (workclass), 7 (occupation) and 14 (native-country). The prototask only uses cases with no missing values.\n",
    "\n",
    "The income prototask comes with two priors, differing according to if attribute 4 (education) is considered to be nominal or ordinal."
   ]
  },
  {
   "cell_type": "code",
   "execution_count": 4,
   "id": "5e146058",
   "metadata": {
    "execution": {
     "iopub.execute_input": "2023-11-10T22:00:46.271559Z",
     "iopub.status.busy": "2023-11-10T22:00:46.271087Z",
     "iopub.status.idle": "2023-11-10T22:00:46.340561Z",
     "shell.execute_reply": "2023-11-10T22:00:46.339214Z"
    },
    "executionInfo": {
     "elapsed": 17,
     "status": "ok",
     "timestamp": 1699032283273,
     "user": {
      "displayName": "Prakash Singh",
      "userId": "12192818067739007778"
     },
     "user_tz": -330
    },
    "id": "zr9jZ68u4V_f",
    "outputId": "dd2fe415-cfbf-44c6-df9a-065d6b464671",
    "papermill": {
     "duration": 0.097986,
     "end_time": "2023-11-10T22:00:46.343419",
     "exception": false,
     "start_time": "2023-11-10T22:00:46.245433",
     "status": "completed"
    },
    "tags": []
   },
   "outputs": [
    {
     "name": "stdout",
     "output_type": "stream",
     "text": [
      "<class 'pandas.core.frame.DataFrame'>\n",
      "RangeIndex: 32561 entries, 0 to 32560\n",
      "Data columns (total 15 columns):\n",
      " #   Column          Non-Null Count  Dtype \n",
      "---  ------          --------------  ----- \n",
      " 0   age             32561 non-null  int64 \n",
      " 1   workclass       32561 non-null  object\n",
      " 2   fnlwgt          32561 non-null  int64 \n",
      " 3   education       32561 non-null  object\n",
      " 4   education.num   32561 non-null  int64 \n",
      " 5   marital.status  32561 non-null  object\n",
      " 6   occupation      32561 non-null  object\n",
      " 7   relationship    32561 non-null  object\n",
      " 8   race            32561 non-null  object\n",
      " 9   sex             32561 non-null  object\n",
      " 10  capital.gain    32561 non-null  int64 \n",
      " 11  capital.loss    32561 non-null  int64 \n",
      " 12  hours.per.week  32561 non-null  int64 \n",
      " 13  native.country  32561 non-null  object\n",
      " 14  income          32561 non-null  object\n",
      "dtypes: int64(6), object(9)\n",
      "memory usage: 3.7+ MB\n"
     ]
    }
   ],
   "source": [
    "df.info() # it tell us about data type and if null value present of each column(feature)"
   ]
  },
  {
   "cell_type": "markdown",
   "id": "ba3bde0b",
   "metadata": {
    "id": "bK5je3P98eLp",
    "papermill": {
     "duration": 0.023695,
     "end_time": "2023-11-10T22:00:46.391660",
     "exception": false,
     "start_time": "2023-11-10T22:00:46.367965",
     "status": "completed"
    },
    "tags": []
   },
   "source": [
    "So from df.info() we get to know about features with their data type and if any null value presents in it. so we don't have any null value in this dataset."
   ]
  },
  {
   "cell_type": "code",
   "execution_count": 5,
   "id": "218269f9",
   "metadata": {
    "execution": {
     "iopub.execute_input": "2023-11-10T22:00:46.540301Z",
     "iopub.status.busy": "2023-11-10T22:00:46.539355Z",
     "iopub.status.idle": "2023-11-10T22:00:46.565374Z",
     "shell.execute_reply": "2023-11-10T22:00:46.564128Z"
    },
    "executionInfo": {
     "elapsed": 15,
     "status": "ok",
     "timestamp": 1699032283273,
     "user": {
      "displayName": "Prakash Singh",
      "userId": "12192818067739007778"
     },
     "user_tz": -330
    },
    "id": "mEvRbaCx6XWp",
    "outputId": "b09c33e2-74ac-4ab4-f057-8646e9271494",
    "papermill": {
     "duration": 0.152447,
     "end_time": "2023-11-10T22:00:46.568396",
     "exception": false,
     "start_time": "2023-11-10T22:00:46.415949",
     "status": "completed"
    },
    "tags": []
   },
   "outputs": [
    {
     "data": {
      "text/html": [
       "<div>\n",
       "<style scoped>\n",
       "    .dataframe tbody tr th:only-of-type {\n",
       "        vertical-align: middle;\n",
       "    }\n",
       "\n",
       "    .dataframe tbody tr th {\n",
       "        vertical-align: top;\n",
       "    }\n",
       "\n",
       "    .dataframe thead th {\n",
       "        text-align: right;\n",
       "    }\n",
       "</style>\n",
       "<table border=\"1\" class=\"dataframe\">\n",
       "  <thead>\n",
       "    <tr style=\"text-align: right;\">\n",
       "      <th></th>\n",
       "      <th>age</th>\n",
       "      <th>workclass</th>\n",
       "      <th>fnlwgt</th>\n",
       "      <th>education</th>\n",
       "      <th>education.num</th>\n",
       "      <th>marital.status</th>\n",
       "      <th>occupation</th>\n",
       "      <th>relationship</th>\n",
       "      <th>race</th>\n",
       "      <th>sex</th>\n",
       "      <th>capital.gain</th>\n",
       "      <th>capital.loss</th>\n",
       "      <th>hours.per.week</th>\n",
       "      <th>native.country</th>\n",
       "      <th>income</th>\n",
       "    </tr>\n",
       "  </thead>\n",
       "  <tbody>\n",
       "    <tr>\n",
       "      <th>0</th>\n",
       "      <td>90</td>\n",
       "      <td>?</td>\n",
       "      <td>77053</td>\n",
       "      <td>HS-grad</td>\n",
       "      <td>9</td>\n",
       "      <td>Widowed</td>\n",
       "      <td>?</td>\n",
       "      <td>Not-in-family</td>\n",
       "      <td>White</td>\n",
       "      <td>Female</td>\n",
       "      <td>0</td>\n",
       "      <td>4356</td>\n",
       "      <td>40</td>\n",
       "      <td>United-States</td>\n",
       "      <td>&lt;=50K</td>\n",
       "    </tr>\n",
       "    <tr>\n",
       "      <th>1</th>\n",
       "      <td>82</td>\n",
       "      <td>Private</td>\n",
       "      <td>132870</td>\n",
       "      <td>HS-grad</td>\n",
       "      <td>9</td>\n",
       "      <td>Widowed</td>\n",
       "      <td>Exec-managerial</td>\n",
       "      <td>Not-in-family</td>\n",
       "      <td>White</td>\n",
       "      <td>Female</td>\n",
       "      <td>0</td>\n",
       "      <td>4356</td>\n",
       "      <td>18</td>\n",
       "      <td>United-States</td>\n",
       "      <td>&lt;=50K</td>\n",
       "    </tr>\n",
       "    <tr>\n",
       "      <th>2</th>\n",
       "      <td>66</td>\n",
       "      <td>?</td>\n",
       "      <td>186061</td>\n",
       "      <td>Some-college</td>\n",
       "      <td>10</td>\n",
       "      <td>Widowed</td>\n",
       "      <td>?</td>\n",
       "      <td>Unmarried</td>\n",
       "      <td>Black</td>\n",
       "      <td>Female</td>\n",
       "      <td>0</td>\n",
       "      <td>4356</td>\n",
       "      <td>40</td>\n",
       "      <td>United-States</td>\n",
       "      <td>&lt;=50K</td>\n",
       "    </tr>\n",
       "    <tr>\n",
       "      <th>3</th>\n",
       "      <td>54</td>\n",
       "      <td>Private</td>\n",
       "      <td>140359</td>\n",
       "      <td>7th-8th</td>\n",
       "      <td>4</td>\n",
       "      <td>Divorced</td>\n",
       "      <td>Machine-op-inspct</td>\n",
       "      <td>Unmarried</td>\n",
       "      <td>White</td>\n",
       "      <td>Female</td>\n",
       "      <td>0</td>\n",
       "      <td>3900</td>\n",
       "      <td>40</td>\n",
       "      <td>United-States</td>\n",
       "      <td>&lt;=50K</td>\n",
       "    </tr>\n",
       "    <tr>\n",
       "      <th>4</th>\n",
       "      <td>41</td>\n",
       "      <td>Private</td>\n",
       "      <td>264663</td>\n",
       "      <td>Some-college</td>\n",
       "      <td>10</td>\n",
       "      <td>Separated</td>\n",
       "      <td>Prof-specialty</td>\n",
       "      <td>Own-child</td>\n",
       "      <td>White</td>\n",
       "      <td>Female</td>\n",
       "      <td>0</td>\n",
       "      <td>3900</td>\n",
       "      <td>40</td>\n",
       "      <td>United-States</td>\n",
       "      <td>&lt;=50K</td>\n",
       "    </tr>\n",
       "    <tr>\n",
       "      <th>5</th>\n",
       "      <td>34</td>\n",
       "      <td>Private</td>\n",
       "      <td>216864</td>\n",
       "      <td>HS-grad</td>\n",
       "      <td>9</td>\n",
       "      <td>Divorced</td>\n",
       "      <td>Other-service</td>\n",
       "      <td>Unmarried</td>\n",
       "      <td>White</td>\n",
       "      <td>Female</td>\n",
       "      <td>0</td>\n",
       "      <td>3770</td>\n",
       "      <td>45</td>\n",
       "      <td>United-States</td>\n",
       "      <td>&lt;=50K</td>\n",
       "    </tr>\n",
       "    <tr>\n",
       "      <th>6</th>\n",
       "      <td>38</td>\n",
       "      <td>Private</td>\n",
       "      <td>150601</td>\n",
       "      <td>10th</td>\n",
       "      <td>6</td>\n",
       "      <td>Separated</td>\n",
       "      <td>Adm-clerical</td>\n",
       "      <td>Unmarried</td>\n",
       "      <td>White</td>\n",
       "      <td>Male</td>\n",
       "      <td>0</td>\n",
       "      <td>3770</td>\n",
       "      <td>40</td>\n",
       "      <td>United-States</td>\n",
       "      <td>&lt;=50K</td>\n",
       "    </tr>\n",
       "    <tr>\n",
       "      <th>7</th>\n",
       "      <td>74</td>\n",
       "      <td>State-gov</td>\n",
       "      <td>88638</td>\n",
       "      <td>Doctorate</td>\n",
       "      <td>16</td>\n",
       "      <td>Never-married</td>\n",
       "      <td>Prof-specialty</td>\n",
       "      <td>Other-relative</td>\n",
       "      <td>White</td>\n",
       "      <td>Female</td>\n",
       "      <td>0</td>\n",
       "      <td>3683</td>\n",
       "      <td>20</td>\n",
       "      <td>United-States</td>\n",
       "      <td>&gt;50K</td>\n",
       "    </tr>\n",
       "    <tr>\n",
       "      <th>8</th>\n",
       "      <td>68</td>\n",
       "      <td>Federal-gov</td>\n",
       "      <td>422013</td>\n",
       "      <td>HS-grad</td>\n",
       "      <td>9</td>\n",
       "      <td>Divorced</td>\n",
       "      <td>Prof-specialty</td>\n",
       "      <td>Not-in-family</td>\n",
       "      <td>White</td>\n",
       "      <td>Female</td>\n",
       "      <td>0</td>\n",
       "      <td>3683</td>\n",
       "      <td>40</td>\n",
       "      <td>United-States</td>\n",
       "      <td>&lt;=50K</td>\n",
       "    </tr>\n",
       "    <tr>\n",
       "      <th>9</th>\n",
       "      <td>41</td>\n",
       "      <td>Private</td>\n",
       "      <td>70037</td>\n",
       "      <td>Some-college</td>\n",
       "      <td>10</td>\n",
       "      <td>Never-married</td>\n",
       "      <td>Craft-repair</td>\n",
       "      <td>Unmarried</td>\n",
       "      <td>White</td>\n",
       "      <td>Male</td>\n",
       "      <td>0</td>\n",
       "      <td>3004</td>\n",
       "      <td>60</td>\n",
       "      <td>?</td>\n",
       "      <td>&gt;50K</td>\n",
       "    </tr>\n",
       "  </tbody>\n",
       "</table>\n",
       "</div>"
      ],
      "text/plain": [
       "   age    workclass  fnlwgt     education  education.num marital.status  \\\n",
       "0   90            ?   77053       HS-grad              9        Widowed   \n",
       "1   82      Private  132870       HS-grad              9        Widowed   \n",
       "2   66            ?  186061  Some-college             10        Widowed   \n",
       "3   54      Private  140359       7th-8th              4       Divorced   \n",
       "4   41      Private  264663  Some-college             10      Separated   \n",
       "5   34      Private  216864       HS-grad              9       Divorced   \n",
       "6   38      Private  150601          10th              6      Separated   \n",
       "7   74    State-gov   88638     Doctorate             16  Never-married   \n",
       "8   68  Federal-gov  422013       HS-grad              9       Divorced   \n",
       "9   41      Private   70037  Some-college             10  Never-married   \n",
       "\n",
       "          occupation    relationship   race     sex  capital.gain  \\\n",
       "0                  ?   Not-in-family  White  Female             0   \n",
       "1    Exec-managerial   Not-in-family  White  Female             0   \n",
       "2                  ?       Unmarried  Black  Female             0   \n",
       "3  Machine-op-inspct       Unmarried  White  Female             0   \n",
       "4     Prof-specialty       Own-child  White  Female             0   \n",
       "5      Other-service       Unmarried  White  Female             0   \n",
       "6       Adm-clerical       Unmarried  White    Male             0   \n",
       "7     Prof-specialty  Other-relative  White  Female             0   \n",
       "8     Prof-specialty   Not-in-family  White  Female             0   \n",
       "9       Craft-repair       Unmarried  White    Male             0   \n",
       "\n",
       "   capital.loss  hours.per.week native.country income  \n",
       "0          4356              40  United-States  <=50K  \n",
       "1          4356              18  United-States  <=50K  \n",
       "2          4356              40  United-States  <=50K  \n",
       "3          3900              40  United-States  <=50K  \n",
       "4          3900              40  United-States  <=50K  \n",
       "5          3770              45  United-States  <=50K  \n",
       "6          3770              40  United-States  <=50K  \n",
       "7          3683              20  United-States   >50K  \n",
       "8          3683              40  United-States  <=50K  \n",
       "9          3004              60              ?   >50K  "
      ]
     },
     "execution_count": 5,
     "metadata": {},
     "output_type": "execute_result"
    }
   ],
   "source": [
    "df.head(10)"
   ]
  },
  {
   "cell_type": "markdown",
   "id": "fddd2180",
   "metadata": {
    "id": "0cso-IeO6z8C",
    "papermill": {
     "duration": 0.026052,
     "end_time": "2023-11-10T22:00:46.619979",
     "exception": false,
     "start_time": "2023-11-10T22:00:46.593927",
     "status": "completed"
    },
    "tags": []
   },
   "source": [
    "So we don't have null value instead we have '?' in two columns that is workclass and occupation contains '?' so need to handle it"
   ]
  },
  {
   "cell_type": "code",
   "execution_count": 6,
   "id": "aa779ea1",
   "metadata": {
    "execution": {
     "iopub.execute_input": "2023-11-10T22:00:46.679299Z",
     "iopub.status.busy": "2023-11-10T22:00:46.678892Z",
     "iopub.status.idle": "2023-11-10T22:00:46.743445Z",
     "shell.execute_reply": "2023-11-10T22:00:46.742515Z"
    },
    "executionInfo": {
     "elapsed": 14,
     "status": "ok",
     "timestamp": 1699032283273,
     "user": {
      "displayName": "Prakash Singh",
      "userId": "12192818067739007778"
     },
     "user_tz": -330
    },
    "id": "HNoIIcVl6x7V",
    "outputId": "d823cad1-4885-455a-d21e-2c397d31902a",
    "papermill": {
     "duration": 0.09405,
     "end_time": "2023-11-10T22:00:46.746035",
     "exception": false,
     "start_time": "2023-11-10T22:00:46.651985",
     "status": "completed"
    },
    "tags": []
   },
   "outputs": [
    {
     "data": {
      "text/html": [
       "<div>\n",
       "<style scoped>\n",
       "    .dataframe tbody tr th:only-of-type {\n",
       "        vertical-align: middle;\n",
       "    }\n",
       "\n",
       "    .dataframe tbody tr th {\n",
       "        vertical-align: top;\n",
       "    }\n",
       "\n",
       "    .dataframe thead th {\n",
       "        text-align: right;\n",
       "    }\n",
       "</style>\n",
       "<table border=\"1\" class=\"dataframe\">\n",
       "  <thead>\n",
       "    <tr style=\"text-align: right;\">\n",
       "      <th></th>\n",
       "      <th>age</th>\n",
       "      <th>workclass</th>\n",
       "      <th>fnlwgt</th>\n",
       "      <th>education</th>\n",
       "      <th>education.num</th>\n",
       "      <th>marital.status</th>\n",
       "      <th>occupation</th>\n",
       "      <th>relationship</th>\n",
       "      <th>race</th>\n",
       "      <th>sex</th>\n",
       "      <th>capital.gain</th>\n",
       "      <th>capital.loss</th>\n",
       "      <th>hours.per.week</th>\n",
       "      <th>native.country</th>\n",
       "      <th>income</th>\n",
       "    </tr>\n",
       "  </thead>\n",
       "  <tbody>\n",
       "    <tr>\n",
       "      <th>0</th>\n",
       "      <td>90</td>\n",
       "      <td>NaN</td>\n",
       "      <td>77053</td>\n",
       "      <td>HS-grad</td>\n",
       "      <td>9</td>\n",
       "      <td>Widowed</td>\n",
       "      <td>NaN</td>\n",
       "      <td>Not-in-family</td>\n",
       "      <td>White</td>\n",
       "      <td>Female</td>\n",
       "      <td>0</td>\n",
       "      <td>4356</td>\n",
       "      <td>40</td>\n",
       "      <td>United-States</td>\n",
       "      <td>&lt;=50K</td>\n",
       "    </tr>\n",
       "    <tr>\n",
       "      <th>1</th>\n",
       "      <td>82</td>\n",
       "      <td>Private</td>\n",
       "      <td>132870</td>\n",
       "      <td>HS-grad</td>\n",
       "      <td>9</td>\n",
       "      <td>Widowed</td>\n",
       "      <td>Exec-managerial</td>\n",
       "      <td>Not-in-family</td>\n",
       "      <td>White</td>\n",
       "      <td>Female</td>\n",
       "      <td>0</td>\n",
       "      <td>4356</td>\n",
       "      <td>18</td>\n",
       "      <td>United-States</td>\n",
       "      <td>&lt;=50K</td>\n",
       "    </tr>\n",
       "    <tr>\n",
       "      <th>2</th>\n",
       "      <td>66</td>\n",
       "      <td>NaN</td>\n",
       "      <td>186061</td>\n",
       "      <td>Some-college</td>\n",
       "      <td>10</td>\n",
       "      <td>Widowed</td>\n",
       "      <td>NaN</td>\n",
       "      <td>Unmarried</td>\n",
       "      <td>Black</td>\n",
       "      <td>Female</td>\n",
       "      <td>0</td>\n",
       "      <td>4356</td>\n",
       "      <td>40</td>\n",
       "      <td>United-States</td>\n",
       "      <td>&lt;=50K</td>\n",
       "    </tr>\n",
       "    <tr>\n",
       "      <th>3</th>\n",
       "      <td>54</td>\n",
       "      <td>Private</td>\n",
       "      <td>140359</td>\n",
       "      <td>7th-8th</td>\n",
       "      <td>4</td>\n",
       "      <td>Divorced</td>\n",
       "      <td>Machine-op-inspct</td>\n",
       "      <td>Unmarried</td>\n",
       "      <td>White</td>\n",
       "      <td>Female</td>\n",
       "      <td>0</td>\n",
       "      <td>3900</td>\n",
       "      <td>40</td>\n",
       "      <td>United-States</td>\n",
       "      <td>&lt;=50K</td>\n",
       "    </tr>\n",
       "    <tr>\n",
       "      <th>4</th>\n",
       "      <td>41</td>\n",
       "      <td>Private</td>\n",
       "      <td>264663</td>\n",
       "      <td>Some-college</td>\n",
       "      <td>10</td>\n",
       "      <td>Separated</td>\n",
       "      <td>Prof-specialty</td>\n",
       "      <td>Own-child</td>\n",
       "      <td>White</td>\n",
       "      <td>Female</td>\n",
       "      <td>0</td>\n",
       "      <td>3900</td>\n",
       "      <td>40</td>\n",
       "      <td>United-States</td>\n",
       "      <td>&lt;=50K</td>\n",
       "    </tr>\n",
       "  </tbody>\n",
       "</table>\n",
       "</div>"
      ],
      "text/plain": [
       "   age workclass  fnlwgt     education  education.num marital.status  \\\n",
       "0   90       NaN   77053       HS-grad              9        Widowed   \n",
       "1   82   Private  132870       HS-grad              9        Widowed   \n",
       "2   66       NaN  186061  Some-college             10        Widowed   \n",
       "3   54   Private  140359       7th-8th              4       Divorced   \n",
       "4   41   Private  264663  Some-college             10      Separated   \n",
       "\n",
       "          occupation   relationship   race     sex  capital.gain  \\\n",
       "0                NaN  Not-in-family  White  Female             0   \n",
       "1    Exec-managerial  Not-in-family  White  Female             0   \n",
       "2                NaN      Unmarried  Black  Female             0   \n",
       "3  Machine-op-inspct      Unmarried  White  Female             0   \n",
       "4     Prof-specialty      Own-child  White  Female             0   \n",
       "\n",
       "   capital.loss  hours.per.week native.country income  \n",
       "0          4356              40  United-States  <=50K  \n",
       "1          4356              18  United-States  <=50K  \n",
       "2          4356              40  United-States  <=50K  \n",
       "3          3900              40  United-States  <=50K  \n",
       "4          3900              40  United-States  <=50K  "
      ]
     },
     "execution_count": 6,
     "metadata": {},
     "output_type": "execute_result"
    }
   ],
   "source": [
    "df.replace('?', np.nan, inplace = True) # Here we replace '?' with nan\n",
    "df.head()"
   ]
  },
  {
   "cell_type": "markdown",
   "id": "5d431e88",
   "metadata": {
    "id": "_QcAO0n9-3aW",
    "papermill": {
     "duration": 0.026074,
     "end_time": "2023-11-10T22:00:46.798947",
     "exception": false,
     "start_time": "2023-11-10T22:00:46.772873",
     "status": "completed"
    },
    "tags": []
   },
   "source": [
    "Now we can see that in index 4 instead of '?' it has replaced with nan value\n",
    "Next check how many values is nan."
   ]
  },
  {
   "cell_type": "code",
   "execution_count": 7,
   "id": "2e6852a1",
   "metadata": {
    "execution": {
     "iopub.execute_input": "2023-11-10T22:00:46.853355Z",
     "iopub.status.busy": "2023-11-10T22:00:46.852213Z",
     "iopub.status.idle": "2023-11-10T22:00:46.898006Z",
     "shell.execute_reply": "2023-11-10T22:00:46.896760Z"
    },
    "executionInfo": {
     "elapsed": 13,
     "status": "ok",
     "timestamp": 1699032283273,
     "user": {
      "displayName": "Prakash Singh",
      "userId": "12192818067739007778"
     },
     "user_tz": -330
    },
    "id": "_sz2zoMZ8Ci-",
    "outputId": "95db5fa2-5b1d-433c-c661-ceaf9eedf891",
    "papermill": {
     "duration": 0.076075,
     "end_time": "2023-11-10T22:00:46.901137",
     "exception": false,
     "start_time": "2023-11-10T22:00:46.825062",
     "status": "completed"
    },
    "tags": []
   },
   "outputs": [
    {
     "data": {
      "text/plain": [
       "age                  0\n",
       "workclass         1836\n",
       "fnlwgt               0\n",
       "education            0\n",
       "education.num        0\n",
       "marital.status       0\n",
       "occupation        1843\n",
       "relationship         0\n",
       "race                 0\n",
       "sex                  0\n",
       "capital.gain         0\n",
       "capital.loss         0\n",
       "hours.per.week       0\n",
       "native.country     583\n",
       "income               0\n",
       "dtype: int64"
      ]
     },
     "execution_count": 7,
     "metadata": {},
     "output_type": "execute_result"
    }
   ],
   "source": [
    "df.isnull().sum() # count of no. of null values present in each columns."
   ]
  },
  {
   "cell_type": "markdown",
   "id": "80bcf0a4",
   "metadata": {
    "id": "z1eILsHzJil2",
    "papermill": {
     "duration": 0.024707,
     "end_time": "2023-11-10T22:00:46.951628",
     "exception": false,
     "start_time": "2023-11-10T22:00:46.926921",
     "status": "completed"
    },
    "tags": []
   },
   "source": [
    "surprise !!!  initially when we did df.head we seen that only two columns contains \"?\" but now we can say that original dataset have three columns contain '?'.\n",
    "\n",
    "Okay, so we have our results. There are three columns with some missing values:\n",
    "\n",
    "workclass = 1836 missing\n",
    "\n",
    "occupation = 1843 missing\n",
    "\n",
    "native.country = 583 missing\n",
    "\n",
    "Hmm, the count of missing values in workclass and occupation column seem to be pretty close. That can’t be a coincidence, can it? Let’s put our detective hats on again:"
   ]
  },
  {
   "cell_type": "code",
   "execution_count": 8,
   "id": "9743a87a",
   "metadata": {
    "execution": {
     "iopub.execute_input": "2023-11-10T22:00:47.004043Z",
     "iopub.status.busy": "2023-11-10T22:00:47.003531Z",
     "iopub.status.idle": "2023-11-10T22:00:47.025408Z",
     "shell.execute_reply": "2023-11-10T22:00:47.024189Z"
    },
    "executionInfo": {
     "elapsed": 11,
     "status": "ok",
     "timestamp": 1699032283273,
     "user": {
      "displayName": "Prakash Singh",
      "userId": "12192818067739007778"
     },
     "user_tz": -330
    },
    "id": "hDDkA0oLE_6-",
    "outputId": "a6abb671-61d8-4861-cab4-f036fac83baf",
    "papermill": {
     "duration": 0.051491,
     "end_time": "2023-11-10T22:00:47.027931",
     "exception": false,
     "start_time": "2023-11-10T22:00:46.976440",
     "status": "completed"
    },
    "tags": []
   },
   "outputs": [
    {
     "data": {
      "text/plain": [
       "1836"
      ]
     },
     "execution_count": 8,
     "metadata": {},
     "output_type": "execute_result"
    }
   ],
   "source": [
    "len(df.loc[ (df['occupation'].isnull()) & ((df['workclass'].isnull()))])"
   ]
  },
  {
   "cell_type": "markdown",
   "id": "7a2c3e90",
   "metadata": {
    "id": "9BiHP7RPIEdQ",
    "papermill": {
     "duration": 0.025031,
     "end_time": "2023-11-10T22:00:47.077996",
     "exception": false,
     "start_time": "2023-11-10T22:00:47.052965",
     "status": "completed"
    },
    "tags": []
   },
   "source": [
    "Since the intersection of data points with missing occupation and missing workclass is the same as the number of data points with missing workclass, we know that where ever occupation is missing, workclass is too.\n",
    "\n",
    "Now i need to handle missing value\n",
    "we have several options for handling them:\n",
    "\n",
    "Imputation: we can fill in missing values with appropriate data. Common methods include filling missing values with the mean, median, mode, or specific values.\n",
    "\n",
    "Dropping Rows: If the number of rows with missing values is relatively small, we can choose to drop those rows using the dropna() method. But this approach, can lead to data loss\n",
    "\n",
    "Dropping Columns: In some cases, we might need to drop entire columns with a high percentage of missing values using the drop() method.\n",
    "\n",
    "There are many more methods i have mentioned some of them.\n",
    "\n",
    "Since in our case we have less missing value campare to total no. of row and again for making things simple for now, we can choose dropping rows"
   ]
  },
  {
   "cell_type": "code",
   "execution_count": 9,
   "id": "e8643421",
   "metadata": {
    "execution": {
     "iopub.execute_input": "2023-11-10T22:00:47.130972Z",
     "iopub.status.busy": "2023-11-10T22:00:47.130471Z",
     "iopub.status.idle": "2023-11-10T22:00:47.222711Z",
     "shell.execute_reply": "2023-11-10T22:00:47.221094Z"
    },
    "executionInfo": {
     "elapsed": 10,
     "status": "ok",
     "timestamp": 1699032283273,
     "user": {
      "displayName": "Prakash Singh",
      "userId": "12192818067739007778"
     },
     "user_tz": -330
    },
    "id": "3g20X2G41RrN",
    "papermill": {
     "duration": 0.122985,
     "end_time": "2023-11-10T22:00:47.226066",
     "exception": false,
     "start_time": "2023-11-10T22:00:47.103081",
     "status": "completed"
    },
    "tags": []
   },
   "outputs": [],
   "source": [
    "df.dropna(inplace = True)\n",
    "# Now we tackled with missing data\n",
    "# check for duplicates\n",
    "df.drop_duplicates(inplace=True)"
   ]
  },
  {
   "cell_type": "markdown",
   "id": "50c5366b",
   "metadata": {
    "id": "yyI6q7E_0cL7",
    "papermill": {
     "duration": 0.025479,
     "end_time": "2023-11-10T22:00:47.278423",
     "exception": false,
     "start_time": "2023-11-10T22:00:47.252944",
     "status": "completed"
    },
    "tags": []
   },
   "source": [
    "**In statistics**\n",
    "we have two type of data\n",
    "1.  Qualitative\n",
    "\n",
    "    a.  Nominal data    (not ordered(hair color, Gender, etc))\n",
    "\n",
    "    b.  ordinal data    (Grade (A to F) or Health(good, normal, bad), etc.\n",
    "2.  Quantitative\n",
    "\n",
    "    a.  Discreate   (The no. of student in a class)\n",
    "    \n",
    "    b.  Continuous  ( Height of students in a class)\n",
    "\n",
    "Based on this we can divide our given dataset columns.\n",
    "1.  Age: Discrete (from 17 to 90)\n",
    "2.  Work class (Private, Federal-Government, etc): Nominal (9 categories)\n",
    "3.  Final Weight (the number of people the census believes the entry represents): Discrete\n",
    "4.  Education (the highest level of education obtained): Ordinal (16 categories)\n",
    "5.  Education Number (the number of years of education): Discrete (from 1 to 16)\n",
    "6.  Marital Status: Nominal (7 categories)\n",
    "7.  Occupation (Transport-Moving, Craft-Repair, etc): Nominal (15 categories)\n",
    "8.  Relationship in family (unmarried, not in the family, etc): Nominal (6 categories)\n",
    "9.  Race: Nominal (5 categories)\n",
    "10. Gender: Nominal (2 categories)\n",
    "11. Capital Gain: Continous\n",
    "12. Capital Loss: Continous\n",
    "13. Hours (worked) per week: Discrete (from 1 to 99)\n",
    "14. Native Country: Nominal (42 countries)\n",
    "15. Income (whether or not an individual makes more than $50,000 annually): Boolean (≤$50k, >$50k)\n",
    "\n",
    "\n"
   ]
  },
  {
   "cell_type": "markdown",
   "id": "059cdc3a",
   "metadata": {
    "id": "1Lh74u2ANHUI",
    "papermill": {
     "duration": 0.025522,
     "end_time": "2023-11-10T22:00:47.329849",
     "exception": false,
     "start_time": "2023-11-10T22:00:47.304327",
     "status": "completed"
    },
    "tags": []
   },
   "source": [
    "**Data Visualization**"
   ]
  },
  {
   "cell_type": "code",
   "execution_count": 10,
   "id": "0604dd27",
   "metadata": {
    "execution": {
     "iopub.execute_input": "2023-11-10T22:00:47.383916Z",
     "iopub.status.busy": "2023-11-10T22:00:47.383430Z",
     "iopub.status.idle": "2023-11-10T22:00:47.424418Z",
     "shell.execute_reply": "2023-11-10T22:00:47.423453Z"
    },
    "executionInfo": {
     "elapsed": 10,
     "status": "ok",
     "timestamp": 1699032283273,
     "user": {
      "displayName": "Prakash Singh",
      "userId": "12192818067739007778"
     },
     "user_tz": -330
    },
    "id": "lhgZfk_V4WB7",
    "outputId": "ea87aa9b-59f3-4c0e-c62b-7ff5f39bfa10",
    "papermill": {
     "duration": 0.071262,
     "end_time": "2023-11-10T22:00:47.427013",
     "exception": false,
     "start_time": "2023-11-10T22:00:47.355751",
     "status": "completed"
    },
    "tags": []
   },
   "outputs": [
    {
     "data": {
      "text/html": [
       "<div>\n",
       "<style scoped>\n",
       "    .dataframe tbody tr th:only-of-type {\n",
       "        vertical-align: middle;\n",
       "    }\n",
       "\n",
       "    .dataframe tbody tr th {\n",
       "        vertical-align: top;\n",
       "    }\n",
       "\n",
       "    .dataframe thead th {\n",
       "        text-align: right;\n",
       "    }\n",
       "</style>\n",
       "<table border=\"1\" class=\"dataframe\">\n",
       "  <thead>\n",
       "    <tr style=\"text-align: right;\">\n",
       "      <th></th>\n",
       "      <th>age</th>\n",
       "      <th>fnlwgt</th>\n",
       "      <th>education.num</th>\n",
       "      <th>capital.gain</th>\n",
       "      <th>capital.loss</th>\n",
       "      <th>hours.per.week</th>\n",
       "    </tr>\n",
       "  </thead>\n",
       "  <tbody>\n",
       "    <tr>\n",
       "      <th>count</th>\n",
       "      <td>30139.000000</td>\n",
       "      <td>3.013900e+04</td>\n",
       "      <td>30139.000000</td>\n",
       "      <td>30139.000000</td>\n",
       "      <td>30139.000000</td>\n",
       "      <td>30139.000000</td>\n",
       "    </tr>\n",
       "    <tr>\n",
       "      <th>mean</th>\n",
       "      <td>38.441720</td>\n",
       "      <td>1.897950e+05</td>\n",
       "      <td>10.122532</td>\n",
       "      <td>1092.841202</td>\n",
       "      <td>88.439928</td>\n",
       "      <td>40.934703</td>\n",
       "    </tr>\n",
       "    <tr>\n",
       "      <th>std</th>\n",
       "      <td>13.131426</td>\n",
       "      <td>1.056586e+05</td>\n",
       "      <td>2.548738</td>\n",
       "      <td>7409.110596</td>\n",
       "      <td>404.445239</td>\n",
       "      <td>11.978753</td>\n",
       "    </tr>\n",
       "    <tr>\n",
       "      <th>min</th>\n",
       "      <td>17.000000</td>\n",
       "      <td>1.376900e+04</td>\n",
       "      <td>1.000000</td>\n",
       "      <td>0.000000</td>\n",
       "      <td>0.000000</td>\n",
       "      <td>1.000000</td>\n",
       "    </tr>\n",
       "    <tr>\n",
       "      <th>25%</th>\n",
       "      <td>28.000000</td>\n",
       "      <td>1.176275e+05</td>\n",
       "      <td>9.000000</td>\n",
       "      <td>0.000000</td>\n",
       "      <td>0.000000</td>\n",
       "      <td>40.000000</td>\n",
       "    </tr>\n",
       "    <tr>\n",
       "      <th>50%</th>\n",
       "      <td>37.000000</td>\n",
       "      <td>1.784170e+05</td>\n",
       "      <td>10.000000</td>\n",
       "      <td>0.000000</td>\n",
       "      <td>0.000000</td>\n",
       "      <td>40.000000</td>\n",
       "    </tr>\n",
       "    <tr>\n",
       "      <th>75%</th>\n",
       "      <td>47.000000</td>\n",
       "      <td>2.376045e+05</td>\n",
       "      <td>13.000000</td>\n",
       "      <td>0.000000</td>\n",
       "      <td>0.000000</td>\n",
       "      <td>45.000000</td>\n",
       "    </tr>\n",
       "    <tr>\n",
       "      <th>max</th>\n",
       "      <td>90.000000</td>\n",
       "      <td>1.484705e+06</td>\n",
       "      <td>16.000000</td>\n",
       "      <td>99999.000000</td>\n",
       "      <td>4356.000000</td>\n",
       "      <td>99.000000</td>\n",
       "    </tr>\n",
       "  </tbody>\n",
       "</table>\n",
       "</div>"
      ],
      "text/plain": [
       "                age        fnlwgt  education.num  capital.gain  capital.loss  \\\n",
       "count  30139.000000  3.013900e+04   30139.000000  30139.000000  30139.000000   \n",
       "mean      38.441720  1.897950e+05      10.122532   1092.841202     88.439928   \n",
       "std       13.131426  1.056586e+05       2.548738   7409.110596    404.445239   \n",
       "min       17.000000  1.376900e+04       1.000000      0.000000      0.000000   \n",
       "25%       28.000000  1.176275e+05       9.000000      0.000000      0.000000   \n",
       "50%       37.000000  1.784170e+05      10.000000      0.000000      0.000000   \n",
       "75%       47.000000  2.376045e+05      13.000000      0.000000      0.000000   \n",
       "max       90.000000  1.484705e+06      16.000000  99999.000000   4356.000000   \n",
       "\n",
       "       hours.per.week  \n",
       "count    30139.000000  \n",
       "mean        40.934703  \n",
       "std         11.978753  \n",
       "min          1.000000  \n",
       "25%         40.000000  \n",
       "50%         40.000000  \n",
       "75%         45.000000  \n",
       "max         99.000000  "
      ]
     },
     "execution_count": 10,
     "metadata": {},
     "output_type": "execute_result"
    }
   ],
   "source": [
    "df.describe() # It gives the descriptive statistics about numerical columns."
   ]
  },
  {
   "cell_type": "markdown",
   "id": "b309967a",
   "metadata": {
    "id": "u2aaYJtYe_sw",
    "papermill": {
     "duration": 0.026012,
     "end_time": "2023-11-10T22:00:47.479186",
     "exception": false,
     "start_time": "2023-11-10T22:00:47.453174",
     "status": "completed"
    },
    "tags": []
   },
   "source": [
    "**Univariate Analysist**\n",
    "\n",
    "**Income Distribution**\n"
   ]
  },
  {
   "cell_type": "code",
   "execution_count": 11,
   "id": "fc855b4f",
   "metadata": {
    "execution": {
     "iopub.execute_input": "2023-11-10T22:00:47.533663Z",
     "iopub.status.busy": "2023-11-10T22:00:47.533260Z",
     "iopub.status.idle": "2023-11-10T22:00:47.771257Z",
     "shell.execute_reply": "2023-11-10T22:00:47.769153Z"
    },
    "executionInfo": {
     "elapsed": 499,
     "status": "ok",
     "timestamp": 1699032283763,
     "user": {
      "displayName": "Prakash Singh",
      "userId": "12192818067739007778"
     },
     "user_tz": -330
    },
    "id": "C9VY_BzJ147c",
    "outputId": "13adb42f-adde-4b19-c942-badf0bba177d",
    "papermill": {
     "duration": 0.270871,
     "end_time": "2023-11-10T22:00:47.776664",
     "exception": false,
     "start_time": "2023-11-10T22:00:47.505793",
     "status": "completed"
    },
    "tags": []
   },
   "outputs": [
    {
     "name": "stdout",
     "output_type": "stream",
     "text": [
      "income\n",
      "<=50K    22633\n",
      ">50K      7506\n",
      "Name: count, dtype: int64\n"
     ]
    },
    {
     "data": {
      "text/plain": [
       "<Axes: ylabel='count'>"
      ]
     },
     "execution_count": 11,
     "metadata": {},
     "output_type": "execute_result"
    },
    {
     "data": {
      "image/png": "[encoded data removed]",
      "text/plain": [
       "<Figure size 640x480 with 1 Axes>"
      ]
     },
     "metadata": {},
     "output_type": "display_data"
    }
   ],
   "source": [
    "\n",
    "print(df['income'].value_counts())\n",
    "df['income'].value_counts().plot.pie(autopct= '%1.1f%%')"
   ]
  },
  {
   "cell_type": "markdown",
   "id": "9a1c4852",
   "metadata": {
    "id": "ySwUVhrS4Ks6",
    "papermill": {
     "duration": 0.026153,
     "end_time": "2023-11-10T22:00:47.852547",
     "exception": false,
     "start_time": "2023-11-10T22:00:47.826394",
     "status": "completed"
    },
    "tags": []
   },
   "source": [
    "we can clearly see that adults with income less than 50000 are almost 3 times greater than adults with income greater than 50000.\n",
    "\n",
    "**Age Distribution**"
   ]
  },
  {
   "cell_type": "code",
   "execution_count": 12,
   "id": "afe29359",
   "metadata": {
    "execution": {
     "iopub.execute_input": "2023-11-10T22:00:47.909277Z",
     "iopub.status.busy": "2023-11-10T22:00:47.908765Z",
     "iopub.status.idle": "2023-11-10T22:00:48.244714Z",
     "shell.execute_reply": "2023-11-10T22:00:48.243140Z"
    },
    "executionInfo": {
     "elapsed": 10,
     "status": "ok",
     "timestamp": 1699032283764,
     "user": {
      "displayName": "Prakash Singh",
      "userId": "12192818067739007778"
     },
     "user_tz": -330
    },
    "id": "L1r0lEGkb_dl",
    "outputId": "8b2fc4e9-4d7c-4781-d2ba-c853e1e79ebb",
    "papermill": {
     "duration": 0.369151,
     "end_time": "2023-11-10T22:00:48.247883",
     "exception": false,
     "start_time": "2023-11-10T22:00:47.878732",
     "status": "completed"
    },
    "tags": []
   },
   "outputs": [
    {
     "data": {
      "text/plain": [
       "Text(0, 0.5, 'count')"
      ]
     },
     "execution_count": 12,
     "metadata": {},
     "output_type": "execute_result"
    },
    {
     "data": {
      "image/png": "[encoded data removed]",
      "text/plain": [
       "<Figure size 640x480 with 1 Axes>"
      ]
     },
     "metadata": {},
     "output_type": "display_data"
    }
   ],
   "source": [
    "df['age'].hist()\n",
    "plt.xlabel('age')\n",
    "plt.ylabel('count')"
   ]
  },
  {
   "cell_type": "markdown",
   "id": "340ca098",
   "metadata": {
    "id": "_TP_qvNGdy_a",
    "papermill": {
     "duration": 0.02766,
     "end_time": "2023-11-10T22:00:48.304893",
     "exception": false,
     "start_time": "2023-11-10T22:00:48.277233",
     "status": "completed"
    },
    "tags": []
   },
   "source": [
    "By observation age attribute is right-skewed and not symetric. min and max age in btw 17 to 90.\n",
    "\n",
    "**Final Weight Distribution**"
   ]
  },
  {
   "cell_type": "code",
   "execution_count": 13,
   "id": "7381fc01",
   "metadata": {
    "execution": {
     "iopub.execute_input": "2023-11-10T22:00:48.363915Z",
     "iopub.status.busy": "2023-11-10T22:00:48.363378Z",
     "iopub.status.idle": "2023-11-10T22:00:48.693528Z",
     "shell.execute_reply": "2023-11-10T22:00:48.692260Z"
    },
    "executionInfo": {
     "elapsed": 532,
     "status": "ok",
     "timestamp": 1699032284288,
     "user": {
      "displayName": "Prakash Singh",
      "userId": "12192818067739007778"
     },
     "user_tz": -330
    },
    "id": "vlURM7H2foVS",
    "outputId": "078b7a8c-1a3f-4599-94db-a05739d9dbdb",
    "papermill": {
     "duration": 0.363183,
     "end_time": "2023-11-10T22:00:48.696284",
     "exception": false,
     "start_time": "2023-11-10T22:00:48.333101",
     "status": "completed"
    },
    "tags": []
   },
   "outputs": [
    {
     "data": {
      "text/plain": [
       "Text(0, 0.5, 'count')"
      ]
     },
     "execution_count": 13,
     "metadata": {},
     "output_type": "execute_result"
    },
    {
     "data": {
      "image/png": "[encoded data removed]",
      "text/plain": [
       "<Figure size 600x400 with 1 Axes>"
      ]
     },
     "metadata": {},
     "output_type": "display_data"
    }
   ],
   "source": [
    "df['fnlwgt'].hist(figsize=(6,4))\n",
    "plt.xlabel('fnlwgt')\n",
    "plt.ylabel('count')"
   ]
  },
  {
   "cell_type": "markdown",
   "id": "c61093a6",
   "metadata": {
    "id": "xeHNsMsRgCAe",
    "papermill": {
     "duration": 0.027229,
     "end_time": "2023-11-10T22:00:48.750814",
     "exception": false,
     "start_time": "2023-11-10T22:00:48.723585",
     "status": "completed"
    },
    "tags": []
   },
   "source": [
    "I also seems like Rightly skewed.\n",
    "\n",
    "**Capital-gain Distribution**"
   ]
  },
  {
   "cell_type": "code",
   "execution_count": 14,
   "id": "efa8d634",
   "metadata": {
    "execution": {
     "iopub.execute_input": "2023-11-10T22:00:48.807638Z",
     "iopub.status.busy": "2023-11-10T22:00:48.806854Z",
     "iopub.status.idle": "2023-11-10T22:00:49.108636Z",
     "shell.execute_reply": "2023-11-10T22:00:49.107452Z"
    },
    "executionInfo": {
     "elapsed": 12,
     "status": "ok",
     "timestamp": 1699032284288,
     "user": {
      "displayName": "Prakash Singh",
      "userId": "12192818067739007778"
     },
     "user_tz": -330
    },
    "id": "Jal7l_RPfomt",
    "outputId": "1beccbf5-fe8f-4728-96cc-bfe7d2c57589",
    "papermill": {
     "duration": 0.333554,
     "end_time": "2023-11-10T22:00:49.111302",
     "exception": false,
     "start_time": "2023-11-10T22:00:48.777748",
     "status": "completed"
    },
    "tags": []
   },
   "outputs": [
    {
     "data": {
      "text/plain": [
       "Text(0, 0.5, 'count')"
      ]
     },
     "execution_count": 14,
     "metadata": {},
     "output_type": "execute_result"
    },
    {
     "data": {
      "image/png": "[encoded data removed]",
      "text/plain": [
       "<Figure size 600x400 with 1 Axes>"
      ]
     },
     "metadata": {},
     "output_type": "display_data"
    }
   ],
   "source": [
    "df['capital.gain'].hist(figsize=(6,4))\n",
    "plt.xlabel('capital.gain')\n",
    "plt.ylabel('count')"
   ]
  },
  {
   "cell_type": "markdown",
   "id": "cfdb4abe",
   "metadata": {
    "id": "A8UtY53IgOC3",
    "papermill": {
     "duration": 0.027809,
     "end_time": "2023-11-10T22:00:49.166718",
     "exception": false,
     "start_time": "2023-11-10T22:00:49.138909",
     "status": "completed"
    },
    "tags": []
   },
   "source": [
    "capital-gain shows that either a person has no gain or has gain of very large amount(10k or 99k). Also from df.describe() we can see that most of value are zero, so we can even remove this, we can have two approach that with or without this features can then can take the better one, but here again for simplicity we will remove this column, this column does not making significant role in result, since most of the values is zero.\n",
    "\n",
    "**Capital-loss Distribution**"
   ]
  },
  {
   "cell_type": "code",
   "execution_count": 15,
   "id": "3b2830b7",
   "metadata": {
    "execution": {
     "iopub.execute_input": "2023-11-10T22:00:49.224634Z",
     "iopub.status.busy": "2023-11-10T22:00:49.223867Z",
     "iopub.status.idle": "2023-11-10T22:00:49.498101Z",
     "shell.execute_reply": "2023-11-10T22:00:49.496953Z"
    },
    "executionInfo": {
     "elapsed": 9,
     "status": "ok",
     "timestamp": 1699032284288,
     "user": {
      "displayName": "Prakash Singh",
      "userId": "12192818067739007778"
     },
     "user_tz": -330
    },
    "id": "XSwNSmkYfo0R",
    "outputId": "64068073-7289-432e-f06e-fe79536912ca",
    "papermill": {
     "duration": 0.306546,
     "end_time": "2023-11-10T22:00:49.500812",
     "exception": false,
     "start_time": "2023-11-10T22:00:49.194266",
     "status": "completed"
    },
    "tags": []
   },
   "outputs": [
    {
     "data": {
      "text/plain": [
       "Text(0, 0.5, 'count')"
      ]
     },
     "execution_count": 15,
     "metadata": {},
     "output_type": "execute_result"
    },
    {
     "data": {
      "image/png": "[encoded data removed]",
      "text/plain": [
       "<Figure size 600x400 with 1 Axes>"
      ]
     },
     "metadata": {},
     "output_type": "display_data"
    }
   ],
   "source": [
    "df['capital.loss'].hist(figsize=(6,4))\n",
    "plt.xlabel('capital.loss')\n",
    "plt.ylabel('count')"
   ]
  },
  {
   "cell_type": "markdown",
   "id": "95a07080",
   "metadata": {
    "id": "K4DYnAjchYZ5",
    "papermill": {
     "duration": 0.027885,
     "end_time": "2023-11-10T22:00:49.557175",
     "exception": false,
     "start_time": "2023-11-10T22:00:49.529290",
     "status": "completed"
    },
    "tags": []
   },
   "source": [
    "It is also similar to captain-gain we can also remove this feature too. as most of the rows have value zero.\n",
    "\n",
    "**hours-per-week Distribution**"
   ]
  },
  {
   "cell_type": "code",
   "execution_count": 16,
   "id": "efc97f1f",
   "metadata": {
    "execution": {
     "iopub.execute_input": "2023-11-10T22:00:49.616270Z",
     "iopub.status.busy": "2023-11-10T22:00:49.615776Z",
     "iopub.status.idle": "2023-11-10T22:00:49.882654Z",
     "shell.execute_reply": "2023-11-10T22:00:49.881178Z"
    },
    "executionInfo": {
     "elapsed": 480,
     "status": "ok",
     "timestamp": 1699032284763,
     "user": {
      "displayName": "Prakash Singh",
      "userId": "12192818067739007778"
     },
     "user_tz": -330
    },
    "id": "1lcq5jScfo_L",
    "outputId": "fa16a184-e374-4975-9ce0-4012b1f856c1",
    "papermill": {
     "duration": 0.300145,
     "end_time": "2023-11-10T22:00:49.886064",
     "exception": false,
     "start_time": "2023-11-10T22:00:49.585919",
     "status": "completed"
    },
    "tags": []
   },
   "outputs": [
    {
     "data": {
      "text/plain": [
       "Text(0, 0.5, 'count')"
      ]
     },
     "execution_count": 16,
     "metadata": {},
     "output_type": "execute_result"
    },
    {
     "data": {
      "image/png": "[encoded data removed]",
      "text/plain": [
       "<Figure size 600x400 with 1 Axes>"
      ]
     },
     "metadata": {},
     "output_type": "display_data"
    }
   ],
   "source": [
    "df['hours.per.week'].hist(figsize=(6,4))\n",
    "plt.xlabel('hours.per.week')\n",
    "plt.ylabel('count')"
   ]
  },
  {
   "cell_type": "markdown",
   "id": "9d4f51a9",
   "metadata": {
    "id": "y5XPiEi9uE-y",
    "papermill": {
     "duration": 0.030172,
     "end_time": "2023-11-10T22:00:49.947622",
     "exception": false,
     "start_time": "2023-11-10T22:00:49.917450",
     "status": "completed"
    },
    "tags": []
   },
   "source": [
    "So from graph we can see that hours per week is seems like slightly normally distrubuted with max count for work hourk between 30-40 with count around 18000\n",
    "There are also few people who works 80-100 hours per week and some less than 20 which is unusual.\n",
    "\n",
    "**Workclass Distribution**"
   ]
  },
  {
   "cell_type": "code",
   "execution_count": 17,
   "id": "9a2567bd",
   "metadata": {
    "execution": {
     "iopub.execute_input": "2023-11-10T22:00:50.009965Z",
     "iopub.status.busy": "2023-11-10T22:00:50.008551Z",
     "iopub.status.idle": "2023-11-10T22:00:50.298436Z",
     "shell.execute_reply": "2023-11-10T22:00:50.297212Z"
    },
    "executionInfo": {
     "elapsed": 5,
     "status": "ok",
     "timestamp": 1699032284764,
     "user": {
      "displayName": "Prakash Singh",
      "userId": "12192818067739007778"
     },
     "user_tz": -330
    },
    "id": "Dm_AjjIHw0X_",
    "outputId": "abc186d2-0c8a-44c9-bec8-267ccefc4274",
    "papermill": {
     "duration": 0.324872,
     "end_time": "2023-11-10T22:00:50.301247",
     "exception": false,
     "start_time": "2023-11-10T22:00:49.976375",
     "status": "completed"
    },
    "tags": []
   },
   "outputs": [
    {
     "data": {
      "image/png": "[encoded data removed]",
      "text/plain": [
       "<Figure size 1200x400 with 1 Axes>"
      ]
     },
     "metadata": {},
     "output_type": "display_data"
    }
   ],
   "source": [
    "plt.figure(figsize=(12,4))\n",
    "\n",
    "total = float(len(df['income']))\n",
    "\n",
    "a = sns.countplot(x='workclass',data=df)\n",
    "\n",
    "for f in a.patches:\n",
    "    height = f.get_height()\n",
    "    a.text(f.get_x() + f.get_width()/2., height+3, '{:1.2f}'.format((height/total)*100),ha=\"center\")"
   ]
  },
  {
   "cell_type": "markdown",
   "id": "90bd823e",
   "metadata": {
    "id": "oHGTz4jNxNE7",
    "papermill": {
     "duration": 0.029348,
     "end_time": "2023-11-10T22:00:50.360083",
     "exception": false,
     "start_time": "2023-11-10T22:00:50.330735",
     "status": "completed"
    },
    "tags": []
   },
   "source": [
    "Most of them are form private workclass with around 74% and rest all have less contribution compare to private with without-pay as least count of around 0.05% of total count.\n",
    "\n",
    "**Education Distribution**"
   ]
  },
  {
   "cell_type": "code",
   "execution_count": 18,
   "id": "7870e11c",
   "metadata": {
    "execution": {
     "iopub.execute_input": "2023-11-10T22:00:50.421294Z",
     "iopub.status.busy": "2023-11-10T22:00:50.420906Z",
     "iopub.status.idle": "2023-11-10T22:00:50.829800Z",
     "shell.execute_reply": "2023-11-10T22:00:50.828435Z"
    },
    "executionInfo": {
     "elapsed": 481,
     "status": "ok",
     "timestamp": 1699032285241,
     "user": {
      "displayName": "Prakash Singh",
      "userId": "12192818067739007778"
     },
     "user_tz": -330
    },
    "id": "9ROQeoIOw0au",
    "outputId": "f9eb7528-c3ad-4a95-8a8d-aef0083a686c",
    "papermill": {
     "duration": 0.442861,
     "end_time": "2023-11-10T22:00:50.832811",
     "exception": false,
     "start_time": "2023-11-10T22:00:50.389950",
     "status": "completed"
    },
    "tags": []
   },
   "outputs": [
    {
     "data": {
      "image/png": "[encoded data removed]",
      "text/plain": [
       "<Figure size 1800x400 with 1 Axes>"
      ]
     },
     "metadata": {},
     "output_type": "display_data"
    }
   ],
   "source": [
    "plt.figure(figsize=(18,4))\n",
    "\n",
    "a= float(len(['income']))\n",
    "\n",
    "a= sns.countplot(x='education',data=df)\n",
    "for s in a.patches:\n",
    "    height = s.get_height()\n",
    "    a.text(s.get_x()+s.get_width()/2.,height+3,'{:1.2f}'.format((height/total)*100),ha='center')"
   ]
  },
  {
   "cell_type": "markdown",
   "id": "7346a25e",
   "metadata": {
    "id": "KlZ5fg-p0o3F",
    "papermill": {
     "duration": 0.030675,
     "end_time": "2023-11-10T22:00:50.895059",
     "exception": false,
     "start_time": "2023-11-10T22:00:50.864384",
     "status": "completed"
    },
    "tags": []
   },
   "source": [
    "HS-grad has highest no of adults and preschool have lowest.\n",
    "\n",
    "**marital-status Distribution:**"
   ]
  },
  {
   "cell_type": "code",
   "execution_count": 19,
   "id": "62836029",
   "metadata": {
    "execution": {
     "iopub.execute_input": "2023-11-10T22:00:50.960891Z",
     "iopub.status.busy": "2023-11-10T22:00:50.960462Z",
     "iopub.status.idle": "2023-11-10T22:00:51.291056Z",
     "shell.execute_reply": "2023-11-10T22:00:51.289829Z"
    },
    "executionInfo": {
     "elapsed": 5,
     "status": "ok",
     "timestamp": 1699032285241,
     "user": {
      "displayName": "Prakash Singh",
      "userId": "12192818067739007778"
     },
     "user_tz": -330
    },
    "id": "9iXsnjn-w0do",
    "outputId": "97a5db33-3f11-458e-81cd-6e378a8efffe",
    "papermill": {
     "duration": 0.365598,
     "end_time": "2023-11-10T22:00:51.294233",
     "exception": false,
     "start_time": "2023-11-10T22:00:50.928635",
     "status": "completed"
    },
    "tags": []
   },
   "outputs": [
    {
     "data": {
      "image/png": "[encoded data removed]",
      "text/plain": [
       "<Figure size 1500x400 with 1 Axes>"
      ]
     },
     "metadata": {},
     "output_type": "display_data"
    }
   ],
   "source": [
    "plt.figure(figsize=(15,4))\n",
    "total = float(len(df) )\n",
    "a = sns.countplot(x=\"marital.status\", data=df)\n",
    "for p in a.patches:\n",
    "    height = p.get_height()\n",
    "    a.text(p.get_x()+p.get_width()/2.,\n",
    "            height + 3,'{:1.2f}'.format((height/total)*100),ha=\"center\")"
   ]
  },
  {
   "cell_type": "markdown",
   "id": "a5cf8095",
   "metadata": {
    "id": "x0eWexWv2AYU",
    "papermill": {
     "duration": 0.030745,
     "end_time": "2023-11-10T22:00:51.355641",
     "exception": false,
     "start_time": "2023-11-10T22:00:51.324896",
     "status": "completed"
    },
    "tags": []
   },
   "source": [
    "Married-civ-spouse has maximum number of samples. Married-AF-spouse has minimum number of obs.\n",
    "\n",
    "**Occupation Distribution:**"
   ]
  },
  {
   "cell_type": "code",
   "execution_count": 20,
   "id": "3e21630d",
   "metadata": {
    "execution": {
     "iopub.execute_input": "2023-11-10T22:00:51.420747Z",
     "iopub.status.busy": "2023-11-10T22:00:51.419183Z",
     "iopub.status.idle": "2023-11-10T22:00:51.931807Z",
     "shell.execute_reply": "2023-11-10T22:00:51.930131Z"
    },
    "executionInfo": {
     "elapsed": 512,
     "status": "ok",
     "timestamp": 1699032285749,
     "user": {
      "displayName": "Prakash Singh",
      "userId": "12192818067739007778"
     },
     "user_tz": -330
    },
    "id": "SvbexwvDw0gR",
    "outputId": "b0423bf6-9979-4f9d-fee4-a074053d4ffb",
    "papermill": {
     "duration": 0.548103,
     "end_time": "2023-11-10T22:00:51.934477",
     "exception": false,
     "start_time": "2023-11-10T22:00:51.386374",
     "status": "completed"
    },
    "tags": []
   },
   "outputs": [
    {
     "data": {
      "image/png": "[encoded data removed]",
      "text/plain": [
       "<Figure size 1500x400 with 1 Axes>"
      ]
     },
     "metadata": {},
     "output_type": "display_data"
    }
   ],
   "source": [
    "plt.figure(figsize=(15,4))\n",
    "total = float(len(df) )\n",
    "a = sns.countplot(x=\"occupation\", data=df)\n",
    "for p in a.patches:\n",
    "    height = p.get_height()\n",
    "    a.text(p.get_x()+p.get_width()/2.,height + 3,'{:1.2f}'.format((height/total)*100),ha=\"center\")\n",
    "a.set_xticklabels(a.get_xticklabels(), rotation=60)\n",
    "plt.show()"
   ]
  },
  {
   "cell_type": "markdown",
   "id": "8913e472",
   "metadata": {
    "id": "80-ahZHR30Cg",
    "papermill": {
     "duration": 0.032058,
     "end_time": "2023-11-10T22:00:51.999139",
     "exception": false,
     "start_time": "2023-11-10T22:00:51.967081",
     "status": "completed"
    },
    "tags": []
   },
   "source": [
    "craft-repair has the maximum count. Armed-Forces has minimum samples in the occupation attribute.\n",
    "\n",
    "**Relationship Distribution**"
   ]
  },
  {
   "cell_type": "code",
   "execution_count": 21,
   "id": "12cf393b",
   "metadata": {
    "execution": {
     "iopub.execute_input": "2023-11-10T22:00:52.068318Z",
     "iopub.status.busy": "2023-11-10T22:00:52.067182Z",
     "iopub.status.idle": "2023-11-10T22:00:52.357840Z",
     "shell.execute_reply": "2023-11-10T22:00:52.356801Z"
    },
    "executionInfo": {
     "elapsed": 965,
     "status": "ok",
     "timestamp": 1699032286710,
     "user": {
      "displayName": "Prakash Singh",
      "userId": "12192818067739007778"
     },
     "user_tz": -330
    },
    "id": "Ehj-bFwDw0jn",
    "outputId": "520b8c4a-12be-470c-a9a7-bd855303c8e6",
    "papermill": {
     "duration": 0.327194,
     "end_time": "2023-11-10T22:00:52.360227",
     "exception": false,
     "start_time": "2023-11-10T22:00:52.033033",
     "status": "completed"
    },
    "tags": []
   },
   "outputs": [
    {
     "data": {
      "image/png": "[encoded data removed]",
      "text/plain": [
       "<Figure size 1200x400 with 1 Axes>"
      ]
     },
     "metadata": {},
     "output_type": "display_data"
    }
   ],
   "source": [
    "plt.figure(figsize=(12,4))\n",
    "total = float(len(df) )\n",
    "a = sns.countplot(x=\"relationship\", data=df)\n",
    "for p in a.patches:\n",
    "    height = p.get_height()\n",
    "    a.text(p.get_x()+p.get_width()/2.,height + 3,'{:1.2f}'.format((height/total)*100),ha=\"center\")"
   ]
  },
  {
   "cell_type": "markdown",
   "id": "261a2323",
   "metadata": {
    "id": "Ejc-l1Jx5K0b",
    "papermill": {
     "duration": 0.032655,
     "end_time": "2023-11-10T22:00:52.426507",
     "exception": false,
     "start_time": "2023-11-10T22:00:52.393852",
     "status": "completed"
    },
    "tags": []
   },
   "source": [
    "**Income (Target) Variable Distribution**"
   ]
  },
  {
   "cell_type": "code",
   "execution_count": 22,
   "id": "5e284814",
   "metadata": {
    "execution": {
     "iopub.execute_input": "2023-11-10T22:00:52.496181Z",
     "iopub.status.busy": "2023-11-10T22:00:52.495487Z",
     "iopub.status.idle": "2023-11-10T22:00:52.695814Z",
     "shell.execute_reply": "2023-11-10T22:00:52.694378Z"
    },
    "executionInfo": {
     "elapsed": 15,
     "status": "ok",
     "timestamp": 1699032286711,
     "user": {
      "displayName": "Prakash Singh",
      "userId": "12192818067739007778"
     },
     "user_tz": -330
    },
    "id": "-_3kJdwMw04w",
    "outputId": "ee48c8dd-84df-4a4d-dd30-07330efe5e81",
    "papermill": {
     "duration": 0.239157,
     "end_time": "2023-11-10T22:00:52.699095",
     "exception": false,
     "start_time": "2023-11-10T22:00:52.459938",
     "status": "completed"
    },
    "tags": []
   },
   "outputs": [
    {
     "data": {
      "image/png": "[encoded data removed]",
      "text/plain": [
       "<Figure size 500x400 with 1 Axes>"
      ]
     },
     "metadata": {},
     "output_type": "display_data"
    }
   ],
   "source": [
    "plt.figure(figsize=(5,4))\n",
    "total = float(len(df) )\n",
    "a = sns.countplot(x=\"income\", data=df)\n",
    "for p in a.patches:\n",
    "    height = p.get_height()\n",
    "    a.text(p.get_x()+p.get_width()/2.,height + 3,'{:1.2f}'.format((height/total)*100),ha=\"center\")"
   ]
  },
  {
   "cell_type": "markdown",
   "id": "0319a17b",
   "metadata": {
    "id": "TyrP__wV5pX1",
    "papermill": {
     "duration": 0.032929,
     "end_time": "2023-11-10T22:00:52.765093",
     "exception": false,
     "start_time": "2023-11-10T22:00:52.732164",
     "status": "completed"
    },
    "tags": []
   },
   "source": [
    "In income there is 2 group,group1(who earns more than 50k) 24.90% belong to income and group2(who earns less than 50k) 75.10% belong to income\n",
    "\n",
    "**Bivariate Analysis**\n",
    "\n",
    "**Boxplot(Age relationship with income):**"
   ]
  },
  {
   "cell_type": "code",
   "execution_count": 23,
   "id": "e88cb96c",
   "metadata": {
    "execution": {
     "iopub.execute_input": "2023-11-10T22:00:52.833611Z",
     "iopub.status.busy": "2023-11-10T22:00:52.832189Z",
     "iopub.status.idle": "2023-11-10T22:00:53.177991Z",
     "shell.execute_reply": "2023-11-10T22:00:53.176740Z"
    },
    "executionInfo": {
     "elapsed": 13,
     "status": "ok",
     "timestamp": 1699032286711,
     "user": {
      "displayName": "Prakash Singh",
      "userId": "12192818067739007778"
     },
     "user_tz": -330
    },
    "id": "tFljlwObw08J",
    "outputId": "1c8339d8-1815-4412-a1b5-7f6690133885",
    "papermill": {
     "duration": 0.383135,
     "end_time": "2023-11-10T22:00:53.180726",
     "exception": false,
     "start_time": "2023-11-10T22:00:52.797591",
     "status": "completed"
    },
    "tags": []
   },
   "outputs": [
    {
     "data": {
      "text/plain": [
       "Text(0.5, 1.0, 'Box plot of INCOME and AGE')"
      ]
     },
     "execution_count": 23,
     "metadata": {},
     "output_type": "execute_result"
    },
    {
     "data": {
      "image/png": "[encoded data removed]",
      "text/plain": [
       "<Figure size 500x400 with 1 Axes>"
      ]
     },
     "metadata": {},
     "output_type": "display_data"
    }
   ],
   "source": [
    "plt.figure(figsize=(5,4))\n",
    "sns.boxplot(x='income',y='age',data=df).set_title('Box plot of INCOME and AGE')"
   ]
  },
  {
   "cell_type": "markdown",
   "id": "b7562062",
   "metadata": {
    "id": "_xHYOpV16e_2",
    "papermill": {
     "duration": 0.034422,
     "end_time": "2023-11-10T22:00:53.249076",
     "exception": false,
     "start_time": "2023-11-10T22:00:53.214654",
     "status": "completed"
    },
    "tags": []
   },
   "source": [
    "we can observe that the median age for people earning more than 50k is significantly greater than the median of people earning less than 50k. So, older people are more likely to earn more than $50k a year as compared to their younger counterparts."
   ]
  },
  {
   "cell_type": "code",
   "execution_count": 24,
   "id": "d945c110",
   "metadata": {
    "execution": {
     "iopub.execute_input": "2023-11-10T22:00:53.321399Z",
     "iopub.status.busy": "2023-11-10T22:00:53.320937Z",
     "iopub.status.idle": "2023-11-10T22:00:53.789978Z",
     "shell.execute_reply": "2023-11-10T22:00:53.789025Z"
    },
    "executionInfo": {
     "elapsed": 9,
     "status": "ok",
     "timestamp": 1699032286711,
     "user": {
      "displayName": "Prakash Singh",
      "userId": "12192818067739007778"
     },
     "user_tz": -330
    },
    "id": "OUnvceiO54Yi",
    "outputId": "3c21b92b-a2f2-4faf-b19f-dd9f6c38fd78",
    "papermill": {
     "duration": 0.508228,
     "end_time": "2023-11-10T22:00:53.792353",
     "exception": false,
     "start_time": "2023-11-10T22:00:53.284125",
     "status": "completed"
    },
    "tags": []
   },
   "outputs": [
    {
     "data": {
      "image/png": "[encoded data removed]",
      "text/plain": [
       "<Figure size 800x400 with 1 Axes>"
      ]
     },
     "metadata": {},
     "output_type": "display_data"
    }
   ],
   "source": [
    "plt.figure(figsize=(8,4))\n",
    "a=sns.countplot(x='workclass',hue ='income',data=df).set_title(\"workclass vs count\")"
   ]
  },
  {
   "cell_type": "markdown",
   "id": "9e740618",
   "metadata": {
    "id": "cAu_0RHf7gHw",
    "papermill": {
     "duration": 0.0357,
     "end_time": "2023-11-10T22:00:53.864183",
     "exception": false,
     "start_time": "2023-11-10T22:00:53.828483",
     "status": "completed"
    },
    "tags": []
   },
   "source": [
    "in All the workclasses number of people earning less then 50k are more then those earning 50k.\n",
    "\n",
    "**Boxplot (relationship Relationship with income):**"
   ]
  },
  {
   "cell_type": "code",
   "execution_count": 25,
   "id": "5d8dd181",
   "metadata": {
    "execution": {
     "iopub.execute_input": "2023-11-10T22:00:53.940024Z",
     "iopub.status.busy": "2023-11-10T22:00:53.939579Z",
     "iopub.status.idle": "2023-11-10T22:00:54.345179Z",
     "shell.execute_reply": "2023-11-10T22:00:54.344046Z"
    },
    "executionInfo": {
     "elapsed": 591,
     "status": "ok",
     "timestamp": 1699032287295,
     "user": {
      "displayName": "Prakash Singh",
      "userId": "12192818067739007778"
     },
     "user_tz": -330
    },
    "id": "4gTgZbW_54bZ",
    "outputId": "f243c44c-7ca1-4a18-91b8-062980fc0671",
    "papermill": {
     "duration": 0.447097,
     "end_time": "2023-11-10T22:00:54.347933",
     "exception": false,
     "start_time": "2023-11-10T22:00:53.900836",
     "status": "completed"
    },
    "tags": []
   },
   "outputs": [
    {
     "data": {
      "image/png": "[encoded data removed]",
      "text/plain": [
       "<Figure size 1000x400 with 1 Axes>"
      ]
     },
     "metadata": {},
     "output_type": "display_data"
    }
   ],
   "source": [
    "plt.figure(figsize=(10,4))\n",
    "sns.countplot(x=\"relationship\", hue=\"income\",data=df);"
   ]
  },
  {
   "cell_type": "markdown",
   "id": "c09b78e2",
   "metadata": {
    "id": "RxcQuKZC8686",
    "papermill": {
     "duration": 0.037154,
     "end_time": "2023-11-10T22:00:54.422145",
     "exception": false,
     "start_time": "2023-11-10T22:00:54.384991",
     "status": "completed"
    },
    "tags": []
   },
   "source": [
    "Mostly a person with relation as husband in a family has most count of people with more then 50k income"
   ]
  },
  {
   "cell_type": "code",
   "execution_count": 26,
   "id": "6fb6adff",
   "metadata": {
    "execution": {
     "iopub.execute_input": "2023-11-10T22:00:54.497585Z",
     "iopub.status.busy": "2023-11-10T22:00:54.497168Z",
     "iopub.status.idle": "2023-11-10T22:00:54.635658Z",
     "shell.execute_reply": "2023-11-10T22:00:54.633133Z"
    },
    "executionInfo": {
     "elapsed": 12,
     "status": "ok",
     "timestamp": 1699032287295,
     "user": {
      "displayName": "Prakash Singh",
      "userId": "12192818067739007778"
     },
     "user_tz": -330
    },
    "id": "yZSn_EIl54eB",
    "outputId": "7d5c4730-2147-4ae5-b82f-698f9e9a021d",
    "papermill": {
     "duration": 0.182554,
     "end_time": "2023-11-10T22:00:54.641470",
     "exception": false,
     "start_time": "2023-11-10T22:00:54.458916",
     "status": "completed"
    },
    "tags": []
   },
   "outputs": [
    {
     "data": {
      "text/plain": [
       "<Axes: ylabel='count'>"
      ]
     },
     "execution_count": 26,
     "metadata": {},
     "output_type": "execute_result"
    },
    {
     "data": {
      "image/png": "[encoded data removed]",
      "text/plain": [
       "<Figure size 1000x400 with 1 Axes>"
      ]
     },
     "metadata": {},
     "output_type": "display_data"
    }
   ],
   "source": [
    "plt.figure(figsize=(10,4))\n",
    "df['sex'].value_counts().plot.pie(autopct='%1.1f%%', colors=['#33cccc','#ded033'])\n"
   ]
  },
  {
   "cell_type": "code",
   "execution_count": 27,
   "id": "aec56ad2",
   "metadata": {
    "execution": {
     "iopub.execute_input": "2023-11-10T22:00:54.753177Z",
     "iopub.status.busy": "2023-11-10T22:00:54.752444Z",
     "iopub.status.idle": "2023-11-10T22:00:55.119854Z",
     "shell.execute_reply": "2023-11-10T22:00:55.118314Z"
    },
    "executionInfo": {
     "elapsed": 7,
     "status": "ok",
     "timestamp": 1699032287295,
     "user": {
      "displayName": "Prakash Singh",
      "userId": "12192818067739007778"
     },
     "user_tz": -330
    },
    "id": "JQz9-tbm-JAA",
    "outputId": "0dc049c3-3d1c-47af-ed72-01ab25ce7dc0",
    "papermill": {
     "duration": 0.408859,
     "end_time": "2023-11-10T22:00:55.123528",
     "exception": false,
     "start_time": "2023-11-10T22:00:54.714669",
     "status": "completed"
    },
    "tags": []
   },
   "outputs": [
    {
     "data": {
      "image/png": "[encoded data removed]",
      "text/plain": [
       "<Figure size 500x400 with 1 Axes>"
      ]
     },
     "metadata": {},
     "output_type": "display_data"
    }
   ],
   "source": [
    "plt.figure(figsize=(5,4))\n",
    "sns.countplot(x=\"sex\", hue=\"income\",data=df);"
   ]
  },
  {
   "cell_type": "markdown",
   "id": "4f287a0c",
   "metadata": {
    "id": "JbFdGuWvARoF",
    "papermill": {
     "duration": 0.036544,
     "end_time": "2023-11-10T22:00:55.196643",
     "exception": false,
     "start_time": "2023-11-10T22:00:55.160099",
     "status": "completed"
    },
    "tags": []
   },
   "source": [
    "**Feautre Scaling**"
   ]
  },
  {
   "cell_type": "code",
   "execution_count": 28,
   "id": "08678b35",
   "metadata": {
    "execution": {
     "iopub.execute_input": "2023-11-10T22:00:55.270653Z",
     "iopub.status.busy": "2023-11-10T22:00:55.270208Z",
     "iopub.status.idle": "2023-11-10T22:00:55.289975Z",
     "shell.execute_reply": "2023-11-10T22:00:55.289161Z"
    },
    "executionInfo": {
     "elapsed": 15,
     "status": "ok",
     "timestamp": 1699032287913,
     "user": {
      "displayName": "Prakash Singh",
      "userId": "12192818067739007778"
     },
     "user_tz": -330
    },
    "id": "isArVrhl_c0L",
    "outputId": "c357217a-c667-4867-91a0-06858506a43f",
    "papermill": {
     "duration": 0.059648,
     "end_time": "2023-11-10T22:00:55.292477",
     "exception": false,
     "start_time": "2023-11-10T22:00:55.232829",
     "status": "completed"
    },
    "tags": []
   },
   "outputs": [
    {
     "data": {
      "text/html": [
       "<div>\n",
       "<style scoped>\n",
       "    .dataframe tbody tr th:only-of-type {\n",
       "        vertical-align: middle;\n",
       "    }\n",
       "\n",
       "    .dataframe tbody tr th {\n",
       "        vertical-align: top;\n",
       "    }\n",
       "\n",
       "    .dataframe thead th {\n",
       "        text-align: right;\n",
       "    }\n",
       "</style>\n",
       "<table border=\"1\" class=\"dataframe\">\n",
       "  <thead>\n",
       "    <tr style=\"text-align: right;\">\n",
       "      <th></th>\n",
       "      <th>age</th>\n",
       "      <th>workclass</th>\n",
       "      <th>fnlwgt</th>\n",
       "      <th>education</th>\n",
       "      <th>education.num</th>\n",
       "      <th>marital.status</th>\n",
       "      <th>occupation</th>\n",
       "      <th>relationship</th>\n",
       "      <th>race</th>\n",
       "      <th>sex</th>\n",
       "      <th>capital.gain</th>\n",
       "      <th>capital.loss</th>\n",
       "      <th>hours.per.week</th>\n",
       "      <th>native.country</th>\n",
       "      <th>income</th>\n",
       "    </tr>\n",
       "  </thead>\n",
       "  <tbody>\n",
       "    <tr>\n",
       "      <th>1</th>\n",
       "      <td>82</td>\n",
       "      <td>Private</td>\n",
       "      <td>132870</td>\n",
       "      <td>HS-grad</td>\n",
       "      <td>9</td>\n",
       "      <td>Widowed</td>\n",
       "      <td>Exec-managerial</td>\n",
       "      <td>Not-in-family</td>\n",
       "      <td>White</td>\n",
       "      <td>Female</td>\n",
       "      <td>0</td>\n",
       "      <td>4356</td>\n",
       "      <td>18</td>\n",
       "      <td>United-States</td>\n",
       "      <td>&lt;=50K</td>\n",
       "    </tr>\n",
       "    <tr>\n",
       "      <th>3</th>\n",
       "      <td>54</td>\n",
       "      <td>Private</td>\n",
       "      <td>140359</td>\n",
       "      <td>7th-8th</td>\n",
       "      <td>4</td>\n",
       "      <td>Divorced</td>\n",
       "      <td>Machine-op-inspct</td>\n",
       "      <td>Unmarried</td>\n",
       "      <td>White</td>\n",
       "      <td>Female</td>\n",
       "      <td>0</td>\n",
       "      <td>3900</td>\n",
       "      <td>40</td>\n",
       "      <td>United-States</td>\n",
       "      <td>&lt;=50K</td>\n",
       "    </tr>\n",
       "    <tr>\n",
       "      <th>4</th>\n",
       "      <td>41</td>\n",
       "      <td>Private</td>\n",
       "      <td>264663</td>\n",
       "      <td>Some-college</td>\n",
       "      <td>10</td>\n",
       "      <td>Separated</td>\n",
       "      <td>Prof-specialty</td>\n",
       "      <td>Own-child</td>\n",
       "      <td>White</td>\n",
       "      <td>Female</td>\n",
       "      <td>0</td>\n",
       "      <td>3900</td>\n",
       "      <td>40</td>\n",
       "      <td>United-States</td>\n",
       "      <td>&lt;=50K</td>\n",
       "    </tr>\n",
       "    <tr>\n",
       "      <th>5</th>\n",
       "      <td>34</td>\n",
       "      <td>Private</td>\n",
       "      <td>216864</td>\n",
       "      <td>HS-grad</td>\n",
       "      <td>9</td>\n",
       "      <td>Divorced</td>\n",
       "      <td>Other-service</td>\n",
       "      <td>Unmarried</td>\n",
       "      <td>White</td>\n",
       "      <td>Female</td>\n",
       "      <td>0</td>\n",
       "      <td>3770</td>\n",
       "      <td>45</td>\n",
       "      <td>United-States</td>\n",
       "      <td>&lt;=50K</td>\n",
       "    </tr>\n",
       "    <tr>\n",
       "      <th>6</th>\n",
       "      <td>38</td>\n",
       "      <td>Private</td>\n",
       "      <td>150601</td>\n",
       "      <td>10th</td>\n",
       "      <td>6</td>\n",
       "      <td>Separated</td>\n",
       "      <td>Adm-clerical</td>\n",
       "      <td>Unmarried</td>\n",
       "      <td>White</td>\n",
       "      <td>Male</td>\n",
       "      <td>0</td>\n",
       "      <td>3770</td>\n",
       "      <td>40</td>\n",
       "      <td>United-States</td>\n",
       "      <td>&lt;=50K</td>\n",
       "    </tr>\n",
       "  </tbody>\n",
       "</table>\n",
       "</div>"
      ],
      "text/plain": [
       "   age workclass  fnlwgt     education  education.num marital.status  \\\n",
       "1   82   Private  132870       HS-grad              9        Widowed   \n",
       "3   54   Private  140359       7th-8th              4       Divorced   \n",
       "4   41   Private  264663  Some-college             10      Separated   \n",
       "5   34   Private  216864       HS-grad              9       Divorced   \n",
       "6   38   Private  150601          10th              6      Separated   \n",
       "\n",
       "          occupation   relationship   race     sex  capital.gain  \\\n",
       "1    Exec-managerial  Not-in-family  White  Female             0   \n",
       "3  Machine-op-inspct      Unmarried  White  Female             0   \n",
       "4     Prof-specialty      Own-child  White  Female             0   \n",
       "5      Other-service      Unmarried  White  Female             0   \n",
       "6       Adm-clerical      Unmarried  White    Male             0   \n",
       "\n",
       "   capital.loss  hours.per.week native.country income  \n",
       "1          4356              18  United-States  <=50K  \n",
       "3          3900              40  United-States  <=50K  \n",
       "4          3900              40  United-States  <=50K  \n",
       "5          3770              45  United-States  <=50K  \n",
       "6          3770              40  United-States  <=50K  "
      ]
     },
     "execution_count": 28,
     "metadata": {},
     "output_type": "execute_result"
    }
   ],
   "source": [
    "df.head()"
   ]
  },
  {
   "cell_type": "markdown",
   "id": "4c63d130",
   "metadata": {
    "id": "owpQdI9x_vuE",
    "papermill": {
     "duration": 0.037212,
     "end_time": "2023-11-10T22:00:55.368310",
     "exception": false,
     "start_time": "2023-11-10T22:00:55.331098",
     "status": "completed"
    },
    "tags": []
   },
   "source": [
    "From observation we conclude that education. num and education are similar with education is categorical and education.num as numerical\n",
    "\n",
    "For Bachelors, the Education Number is [13]\n",
    "\n",
    "For HS-grad, the Education Number is [9]\n",
    "\n",
    "For 11th, the Education Number is [7]\n",
    "\n",
    "For Masters, the Education Number is [14]\n",
    "\n",
    "For 9th, the Education Number is [5]\n",
    "\n",
    "For Some-college, the Education Number is [10]\n",
    "\n",
    "For Assoc-acdm, the Education Number is [12]\n",
    "\n",
    "For Assoc-voc, the Education Number is [11]\n",
    "\n",
    "For 7th-8th, the Education Number is [4]\n",
    "\n",
    "For Doctorate, the Education Number is [16]\n",
    "\n",
    "For Prof-school, the Education Number is [15]\n",
    "\n",
    "For 5th-6th, the Education Number is [3]\n",
    "\n",
    "For 10th, the Education Number is [6]\n",
    "\n",
    "For 1st-4th, the Education Number is [2]\n",
    "\n",
    "For Preschool, the Education Number is [1]\n",
    "\n",
    "For 12th, the Education Number is [8]\n",
    "\n",
    "I see that Education Number and Education are just the same, so, Education of them column could be droped.we already discussed that we need to drop capital-gain and capital-loss.\n",
    "\n"
   ]
  },
  {
   "cell_type": "code",
   "execution_count": 29,
   "id": "8dafe007",
   "metadata": {
    "execution": {
     "iopub.execute_input": "2023-11-10T22:00:55.446099Z",
     "iopub.status.busy": "2023-11-10T22:00:55.445114Z",
     "iopub.status.idle": "2023-11-10T22:00:55.458833Z",
     "shell.execute_reply": "2023-11-10T22:00:55.457991Z"
    },
    "executionInfo": {
     "elapsed": 14,
     "status": "ok",
     "timestamp": 1699032287913,
     "user": {
      "displayName": "Prakash Singh",
      "userId": "12192818067739007778"
     },
     "user_tz": -330
    },
    "id": "ZcDM53mz3UEG",
    "outputId": "ab186dfa-cac6-480b-d2fa-dd1b769dd7c0",
    "papermill": {
     "duration": 0.055535,
     "end_time": "2023-11-10T22:00:55.461372",
     "exception": false,
     "start_time": "2023-11-10T22:00:55.405837",
     "status": "completed"
    },
    "tags": []
   },
   "outputs": [
    {
     "data": {
      "text/plain": [
       "(30139, 12)"
      ]
     },
     "execution_count": 29,
     "metadata": {},
     "output_type": "execute_result"
    }
   ],
   "source": [
    "df.drop(['education','capital.gain','capital.loss'], axis = 1, inplace = True)\n",
    "df.shape"
   ]
  },
  {
   "cell_type": "markdown",
   "id": "5d0c8ec3",
   "metadata": {
    "id": "7Ol4dTFCBn7-",
    "papermill": {
     "duration": 0.037126,
     "end_time": "2023-11-10T22:00:55.537150",
     "exception": false,
     "start_time": "2023-11-10T22:00:55.500024",
     "status": "completed"
    },
    "tags": []
   },
   "source": [
    "**Data pre-processing**\n",
    "\n",
    "The data must be pre-processed before fed as input for training. Here there are various categorical variables which do not map to numerical value. These must be converted to numerical form. There are two paths that can be deployed:\n",
    "\n",
    "**Map to ordinal values**\n",
    "\n",
    "**One-hot encoding**\n",
    "\n",
    "**Map to ordinal values**\n",
    "\n",
    "This method revolves around replacing a category to a mapped numeric value. One example is mapping Male to 1 and Female to 0 for the Gender attribute. We have sorted the average purchase value for each category and assigned a value on a priority basis.\n",
    "\n",
    "**One-hot encoding**\n",
    "\n",
    "This involes creating a binary variable for each attribute. Here, we have one-hot encoded City_Category. Each new variable takes on the value 1 if the original variable had that category and 0 otherwise.\n",
    "\n",
    "**Mapping v/s One-hot encoding**\n",
    "\n",
    "The main advantage of one-hot encoding is that it preserves the categorical nature of the variable and prevents the numerical values from being interpreted as having an inherent order or magnitude. This is particularly important when dealing with variables that do not have a natural order, such as types of products or regions.\n",
    "\n",
    "The choice between replacement with values and one-hot encoding depends on the specific problem at hand and the nature of the variable being transformed. If the categories have an inherent order or magnitude, replacement with values may be more appropriate. If the categories are unordered, one-hot encoding is usually the preferred method.\n",
    "\n",
    "But again for simplicity we are going to do mapping here"
   ]
  },
  {
   "cell_type": "code",
   "execution_count": 30,
   "id": "0b93e641",
   "metadata": {
    "execution": {
     "iopub.execute_input": "2023-11-10T22:00:55.615060Z",
     "iopub.status.busy": "2023-11-10T22:00:55.614436Z",
     "iopub.status.idle": "2023-11-10T22:00:55.711374Z",
     "shell.execute_reply": "2023-11-10T22:00:55.709887Z"
    },
    "executionInfo": {
     "elapsed": 12,
     "status": "ok",
     "timestamp": 1699032287913,
     "user": {
      "displayName": "Prakash Singh",
      "userId": "12192818067739007778"
     },
     "user_tz": -330
    },
    "id": "BCMz_w_xktwb",
    "outputId": "82341fca-d824-425e-e56a-76ac0f5becf1",
    "papermill": {
     "duration": 0.139074,
     "end_time": "2023-11-10T22:00:55.714561",
     "exception": false,
     "start_time": "2023-11-10T22:00:55.575487",
     "status": "completed"
    },
    "tags": []
   },
   "outputs": [
    {
     "data": {
      "text/html": [
       "<div>\n",
       "<style scoped>\n",
       "    .dataframe tbody tr th:only-of-type {\n",
       "        vertical-align: middle;\n",
       "    }\n",
       "\n",
       "    .dataframe tbody tr th {\n",
       "        vertical-align: top;\n",
       "    }\n",
       "\n",
       "    .dataframe thead th {\n",
       "        text-align: right;\n",
       "    }\n",
       "</style>\n",
       "<table border=\"1\" class=\"dataframe\">\n",
       "  <thead>\n",
       "    <tr style=\"text-align: right;\">\n",
       "      <th></th>\n",
       "      <th>age</th>\n",
       "      <th>workclass</th>\n",
       "      <th>fnlwgt</th>\n",
       "      <th>education.num</th>\n",
       "      <th>marital.status</th>\n",
       "      <th>occupation</th>\n",
       "      <th>relationship</th>\n",
       "      <th>race</th>\n",
       "      <th>sex</th>\n",
       "      <th>hours.per.week</th>\n",
       "      <th>native.country</th>\n",
       "      <th>income</th>\n",
       "    </tr>\n",
       "  </thead>\n",
       "  <tbody>\n",
       "    <tr>\n",
       "      <th>1</th>\n",
       "      <td>82</td>\n",
       "      <td>2</td>\n",
       "      <td>132870</td>\n",
       "      <td>9</td>\n",
       "      <td>6</td>\n",
       "      <td>3</td>\n",
       "      <td>1</td>\n",
       "      <td>4</td>\n",
       "      <td>0</td>\n",
       "      <td>18</td>\n",
       "      <td>38</td>\n",
       "      <td>0</td>\n",
       "    </tr>\n",
       "    <tr>\n",
       "      <th>3</th>\n",
       "      <td>54</td>\n",
       "      <td>2</td>\n",
       "      <td>140359</td>\n",
       "      <td>4</td>\n",
       "      <td>0</td>\n",
       "      <td>6</td>\n",
       "      <td>4</td>\n",
       "      <td>4</td>\n",
       "      <td>0</td>\n",
       "      <td>40</td>\n",
       "      <td>38</td>\n",
       "      <td>0</td>\n",
       "    </tr>\n",
       "    <tr>\n",
       "      <th>4</th>\n",
       "      <td>41</td>\n",
       "      <td>2</td>\n",
       "      <td>264663</td>\n",
       "      <td>10</td>\n",
       "      <td>5</td>\n",
       "      <td>9</td>\n",
       "      <td>3</td>\n",
       "      <td>4</td>\n",
       "      <td>0</td>\n",
       "      <td>40</td>\n",
       "      <td>38</td>\n",
       "      <td>0</td>\n",
       "    </tr>\n",
       "    <tr>\n",
       "      <th>5</th>\n",
       "      <td>34</td>\n",
       "      <td>2</td>\n",
       "      <td>216864</td>\n",
       "      <td>9</td>\n",
       "      <td>0</td>\n",
       "      <td>7</td>\n",
       "      <td>4</td>\n",
       "      <td>4</td>\n",
       "      <td>0</td>\n",
       "      <td>45</td>\n",
       "      <td>38</td>\n",
       "      <td>0</td>\n",
       "    </tr>\n",
       "    <tr>\n",
       "      <th>6</th>\n",
       "      <td>38</td>\n",
       "      <td>2</td>\n",
       "      <td>150601</td>\n",
       "      <td>6</td>\n",
       "      <td>5</td>\n",
       "      <td>0</td>\n",
       "      <td>4</td>\n",
       "      <td>4</td>\n",
       "      <td>1</td>\n",
       "      <td>40</td>\n",
       "      <td>38</td>\n",
       "      <td>0</td>\n",
       "    </tr>\n",
       "  </tbody>\n",
       "</table>\n",
       "</div>"
      ],
      "text/plain": [
       "   age  workclass  fnlwgt  education.num  marital.status  occupation  \\\n",
       "1   82          2  132870              9               6           3   \n",
       "3   54          2  140359              4               0           6   \n",
       "4   41          2  264663             10               5           9   \n",
       "5   34          2  216864              9               0           7   \n",
       "6   38          2  150601              6               5           0   \n",
       "\n",
       "   relationship  race  sex  hours.per.week  native.country  income  \n",
       "1             1     4    0              18              38       0  \n",
       "3             4     4    0              40              38       0  \n",
       "4             3     4    0              40              38       0  \n",
       "5             4     4    0              45              38       0  \n",
       "6             4     4    1              40              38       0  "
      ]
     },
     "execution_count": 30,
     "metadata": {},
     "output_type": "execute_result"
    }
   ],
   "source": [
    "from sklearn.preprocessing import LabelEncoder\n",
    "\n",
    "le = LabelEncoder()\n",
    "for column in df.columns:\n",
    "    if df[column].dtype == 'object':\n",
    "        df[column] = le.fit_transform(df[column])\n",
    "\n",
    "df.head()\n"
   ]
  },
  {
   "cell_type": "code",
   "execution_count": 31,
   "id": "55dd05ce",
   "metadata": {
    "execution": {
     "iopub.execute_input": "2023-11-10T22:00:55.793346Z",
     "iopub.status.busy": "2023-11-10T22:00:55.792870Z",
     "iopub.status.idle": "2023-11-10T22:00:55.826035Z",
     "shell.execute_reply": "2023-11-10T22:00:55.824821Z"
    },
    "executionInfo": {
     "elapsed": 11,
     "status": "ok",
     "timestamp": 1699032287913,
     "user": {
      "displayName": "Prakash Singh",
      "userId": "12192818067739007778"
     },
     "user_tz": -330
    },
    "id": "_oayHQZ04WJW",
    "outputId": "46c62237-2605-45c3-ec39-8497ad99aeef",
    "papermill": {
     "duration": 0.076453,
     "end_time": "2023-11-10T22:00:55.829127",
     "exception": false,
     "start_time": "2023-11-10T22:00:55.752674",
     "status": "completed"
    },
    "tags": []
   },
   "outputs": [
    {
     "data": {
      "text/plain": [
       "(30139, 11)"
      ]
     },
     "execution_count": 31,
     "metadata": {},
     "output_type": "execute_result"
    }
   ],
   "source": [
    "X = df.drop('income', axis = 1)\n",
    "y = df['income']\n",
    "# standardizing the dataframe\n",
    "X = StandardScaler().fit_transform(X)\n",
    "X.shape"
   ]
  },
  {
   "cell_type": "markdown",
   "id": "f23def4f",
   "metadata": {
    "id": "W0x0xzEUE9O_",
    "papermill": {
     "duration": 0.037605,
     "end_time": "2023-11-10T22:00:55.904706",
     "exception": false,
     "start_time": "2023-11-10T22:00:55.867101",
     "status": "completed"
    },
    "tags": []
   },
   "source": [
    "**Data splitting**\n",
    "\n",
    "We split the provided data set in 80:20 for training and testing. In ML, we split the data to evaluate the performance of our models accurately. The main reason for splitting data into training and testing sets is to train our model on a subset of data and test its performance on unseen data.\n",
    "\n",
    "By using a separate testing set, we can determine whether our model is overfitting or underfitting. Overfitting occurs when the model performs well on the training data but poorly on the testing data, while underfitting occurs when the model does not capture the underlying patterns in the data and performs poorly on both training and testing data.\n",
    "\n",
    "Splitting data allows us to optimize our model's parameters on the training data and evaluate its performance on the testing data, which is representative of the real-world data. This process helps us to build models that generalize well to new, unseen data and provide accurate predictions or classifications."
   ]
  },
  {
   "cell_type": "code",
   "execution_count": 32,
   "id": "99fafd8b",
   "metadata": {
    "execution": {
     "iopub.execute_input": "2023-11-10T22:00:55.985779Z",
     "iopub.status.busy": "2023-11-10T22:00:55.984597Z",
     "iopub.status.idle": "2023-11-10T22:00:55.996073Z",
     "shell.execute_reply": "2023-11-10T22:00:55.994962Z"
    },
    "executionInfo": {
     "elapsed": 11,
     "status": "ok",
     "timestamp": 1699032287914,
     "user": {
      "displayName": "Prakash Singh",
      "userId": "12192818067739007778"
     },
     "user_tz": -330
    },
    "id": "dP-ckhtH4WGn",
    "papermill": {
     "duration": 0.054092,
     "end_time": "2023-11-10T22:00:55.999030",
     "exception": false,
     "start_time": "2023-11-10T22:00:55.944938",
     "status": "completed"
    },
    "tags": []
   },
   "outputs": [],
   "source": [
    "x_train, x_test, y_train, y_test = train_test_split(X, y, train_size=0.8, random_state=43)"
   ]
  },
  {
   "cell_type": "code",
   "execution_count": 33,
   "id": "ba187254",
   "metadata": {
    "execution": {
     "iopub.execute_input": "2023-11-10T22:00:56.080902Z",
     "iopub.status.busy": "2023-11-10T22:00:56.080155Z",
     "iopub.status.idle": "2023-11-10T22:00:56.133272Z",
     "shell.execute_reply": "2023-11-10T22:00:56.131406Z"
    },
    "executionInfo": {
     "elapsed": 11,
     "status": "ok",
     "timestamp": 1699032287914,
     "user": {
      "displayName": "Prakash Singh",
      "userId": "12192818067739007778"
     },
     "user_tz": -330
    },
    "id": "KwN3fuDm4WMm",
    "outputId": "7ee7b911-d369-4eaf-fca0-31888ba0ee58",
    "papermill": {
     "duration": 0.098128,
     "end_time": "2023-11-10T22:00:56.138057",
     "exception": false,
     "start_time": "2023-11-10T22:00:56.039929",
     "status": "completed"
    },
    "tags": []
   },
   "outputs": [
    {
     "name": "stdout",
     "output_type": "stream",
     "text": [
      "Accuracy= 0.7967816854678168\n"
     ]
    }
   ],
   "source": [
    "modelLG = LogisticRegression()\n",
    "modelLG.fit(x_train, y_train)\n",
    "y_predict = modelLG.predict(x_test)\n",
    "print('Accuracy=',accuracy_score(y_test, y_predict))"
   ]
  },
  {
   "cell_type": "markdown",
   "id": "41d94cb5",
   "metadata": {
    "id": "qV4jt2ZWMIOn",
    "papermill": {
     "duration": 0.052369,
     "end_time": "2023-11-10T22:00:56.270534",
     "exception": false,
     "start_time": "2023-11-10T22:00:56.218165",
     "status": "completed"
    },
    "tags": []
   },
   "source": [
    "My accuracy is near 80% which pretty good with logistic regression\n",
    "Down below some more evaluation matrix i have disccused.\n",
    "\n"
   ]
  },
  {
   "cell_type": "code",
   "execution_count": 34,
   "id": "26b98a8a",
   "metadata": {
    "execution": {
     "iopub.execute_input": "2023-11-10T22:00:56.348592Z",
     "iopub.status.busy": "2023-11-10T22:00:56.348126Z",
     "iopub.status.idle": "2023-11-10T22:00:56.373546Z",
     "shell.execute_reply": "2023-11-10T22:00:56.371881Z"
    },
    "executionInfo": {
     "elapsed": 9,
     "status": "ok",
     "timestamp": 1699032287914,
     "user": {
      "displayName": "Prakash Singh",
      "userId": "12192818067739007778"
     },
     "user_tz": -330
    },
    "id": "s3LGd_s-GpgQ",
    "outputId": "e6778e0b-c87f-445c-f11a-950627fd2576",
    "papermill": {
     "duration": 0.067654,
     "end_time": "2023-11-10T22:00:56.376218",
     "exception": false,
     "start_time": "2023-11-10T22:00:56.308564",
     "status": "completed"
    },
    "tags": []
   },
   "outputs": [
    {
     "name": "stdout",
     "output_type": "stream",
     "text": [
      "              precision    recall  f1-score   support\n",
      "\n",
      "           0       0.82      0.93      0.87      4504\n",
      "           1       0.67      0.39      0.49      1524\n",
      "\n",
      "    accuracy                           0.80      6028\n",
      "   macro avg       0.74      0.66      0.68      6028\n",
      "weighted avg       0.78      0.80      0.78      6028\n",
      "\n"
     ]
    }
   ],
   "source": [
    "print(classification_report(y_test,y_predict))"
   ]
  },
  {
   "cell_type": "markdown",
   "id": "1ee4f82d",
   "metadata": {
    "id": "2Cp0n7zYJyr6",
    "papermill": {
     "duration": 0.036282,
     "end_time": "2023-11-10T22:00:56.449146",
     "exception": false,
     "start_time": "2023-11-10T22:00:56.412864",
     "status": "completed"
    },
    "tags": []
   },
   "source": [
    "**Precision:**\n",
    "\n",
    " Precision is a measure of how accurate a model’s positive predictions are. It is defined as the ratio of true positive predictions to the total number of positive predictions made by the model\n",
    "\n",
    "** Accuracy:**\n",
    "  Accuracy is used to measure the performance of the model. It is the ratio of Total correct instances to the total instances.\n",
    "\n",
    "  **Recall:**\n",
    "  \n",
    "   Recall measures the effectiveness of a classification model in identifying all relevant instances from a dataset. It is the ratio of the number of true positive (TP) instances to the sum of true positive and false negative (FN) instances.\n",
    "\n",
    "  ** F1-Score**:\n",
    "  \n",
    "   F1-score is used to evaluate the overall performance of a classification model. It is the harmonic mean of precision and recall,\n",
    "\n"
   ]
  },
  {
   "cell_type": "markdown",
   "id": "c5839a80",
   "metadata": {
    "id": "-kk1ba92LkXk",
    "papermill": {
     "duration": 0.036699,
     "end_time": "2023-11-10T22:00:56.522185",
     "exception": false,
     "start_time": "2023-11-10T22:00:56.485486",
     "status": "completed"
    },
    "tags": []
   },
   "source": [
    "**Confusion Matrix**\n",
    "\n",
    "A confusion matrix is a matrix that summarizes the performance of a machine learning model on a set of test data. It is often used to measure the performance of classification models, which aim to predict a categorical label for each input instance. The matrix displays the number of true positives (TP), true negatives (TN), false positives (FP), and false negatives (FN) produced by the model on the test data."
   ]
  },
  {
   "cell_type": "code",
   "execution_count": 35,
   "id": "efdbca40",
   "metadata": {
    "execution": {
     "iopub.execute_input": "2023-11-10T22:00:56.599052Z",
     "iopub.status.busy": "2023-11-10T22:00:56.598134Z",
     "iopub.status.idle": "2023-11-10T22:00:56.872402Z",
     "shell.execute_reply": "2023-11-10T22:00:56.871399Z"
    },
    "executionInfo": {
     "elapsed": 478,
     "status": "ok",
     "timestamp": 1699032288384,
     "user": {
      "displayName": "Prakash Singh",
      "userId": "12192818067739007778"
     },
     "user_tz": -330
    },
    "id": "5V6E2FEWLPXD",
    "outputId": "736f9bae-dad5-49f2-d8d0-1e3a330df85b",
    "papermill": {
     "duration": 0.31607,
     "end_time": "2023-11-10T22:00:56.874825",
     "exception": false,
     "start_time": "2023-11-10T22:00:56.558755",
     "status": "completed"
    },
    "tags": []
   },
   "outputs": [
    {
     "data": {
      "image/png": "[encoded data removed]",
      "text/plain": [
       "<Figure size 800x600 with 2 Axes>"
      ]
     },
     "metadata": {},
     "output_type": "display_data"
    }
   ],
   "source": [
    "cm = confusion_matrix(y_test, y_predict)\n",
    "plt.figure(figsize=(8, 6))\n",
    "sns.heatmap(cm, annot=True, fmt='d', cmap='Blues', xticklabels=['Class 0', 'Class 1'], yticklabels=['Class 0', 'Class 1'])\n",
    "plt.xlabel('Predicted')\n",
    "plt.ylabel('Actual')\n",
    "plt.title('Confusion Matrix')\n",
    "plt.show()\n"
   ]
  },
  {
   "cell_type": "code",
   "execution_count": 36,
   "id": "0aa3948f",
   "metadata": {
    "execution": {
     "iopub.execute_input": "2023-11-10T22:00:56.953849Z",
     "iopub.status.busy": "2023-11-10T22:00:56.953017Z",
     "iopub.status.idle": "2023-11-10T22:00:56.972936Z",
     "shell.execute_reply": "2023-11-10T22:00:56.971901Z"
    },
    "executionInfo": {
     "elapsed": 6,
     "status": "ok",
     "timestamp": 1699032288384,
     "user": {
      "displayName": "Prakash Singh",
      "userId": "12192818067739007778"
     },
     "user_tz": -330
    },
    "id": "Ehg3XXSMHsAt",
    "papermill": {
     "duration": 0.063178,
     "end_time": "2023-11-10T22:00:56.975634",
     "exception": false,
     "start_time": "2023-11-10T22:00:56.912456",
     "status": "completed"
    },
    "tags": []
   },
   "outputs": [],
   "source": [
    "\n",
    "accuracy = accuracy_score(y_test, y_predict)\n",
    "precision = precision_score(y_test, y_predict)\n",
    "recall = recall_score(y_test, y_predict)\n",
    "f1_score = f1_score(y_test, y_predict)\n"
   ]
  },
  {
   "cell_type": "code",
   "execution_count": 37,
   "id": "d75e8103",
   "metadata": {
    "execution": {
     "iopub.execute_input": "2023-11-10T22:00:57.056749Z",
     "iopub.status.busy": "2023-11-10T22:00:57.055856Z",
     "iopub.status.idle": "2023-11-10T22:00:57.286985Z",
     "shell.execute_reply": "2023-11-10T22:00:57.285480Z"
    },
    "executionInfo": {
     "elapsed": 6,
     "status": "ok",
     "timestamp": 1699032288384,
     "user": {
      "displayName": "Prakash Singh",
      "userId": "12192818067739007778"
     },
     "user_tz": -330
    },
    "id": "X8rO7cJ9Gpja",
    "outputId": "77973ae8-7139-401a-a023-e9586b6f4bfc",
    "papermill": {
     "duration": 0.274753,
     "end_time": "2023-11-10T22:00:57.290050",
     "exception": false,
     "start_time": "2023-11-10T22:00:57.015297",
     "status": "completed"
    },
    "tags": []
   },
   "outputs": [
    {
     "data": {
      "image/png": "[encoded data removed]",
      "text/plain": [
       "<Figure size 1000x600 with 1 Axes>"
      ]
     },
     "metadata": {},
     "output_type": "display_data"
    }
   ],
   "source": [
    "# Create a bar plot to visualize the metrics\n",
    "metrics = ['Accuracy', 'Precision', 'Recall', 'F1 Score']\n",
    "values = [accuracy, precision, recall, f1_score]\n",
    "\n",
    "plt.figure(figsize=(10, 6))\n",
    "sns.barplot(x=values, y=metrics, palette='viridis')\n",
    "plt.title('Model Evaluation Metrics')\n",
    "plt.xlabel('Value')\n",
    "plt.xlim(0, 1)  # Adjust the x-axis limits if needed\n",
    "plt.grid(axis='x', linestyle='--', alpha=0.6)\n",
    "\n",
    "# Annotate the values on the bars\n",
    "for i, v in enumerate(values):\n",
    "    plt.text(v + 0.01, i, f'{v:.2f}', color='black', va='center')\n",
    "\n",
    "plt.show()"
   ]
  },
  {
   "cell_type": "markdown",
   "id": "d7fa2b50",
   "metadata": {
    "id": "pk-6kGLrLtrJ",
    "papermill": {
     "duration": 0.037801,
     "end_time": "2023-11-10T22:00:57.366158",
     "exception": false,
     "start_time": "2023-11-10T22:00:57.328357",
     "status": "completed"
    },
    "tags": []
   },
   "source": [
    "**Future Improvement:**\n",
    "we could have used PCA feature extraction\n",
    "we can use different classification model like decision tree, SVM , random forest, or gradient boosting classifier, etc. to see is there model which can perform better than this.\n",
    "\n",
    "we can further make some improvement in feature extraction like using one hot coding for gender or for nominal data type, etc."
   ]
  }
 ],
 "metadata": {
  "kernelspec": {
   "display_name": "Python 3",
   "language": "python",
   "name": "python3"
  },
  "language_info": {
   "codemirror_mode": {
    "name": "ipython",
    "version": 3
   },
   "file_extension": ".py",
   "mimetype": "text/x-python",
   "name": "python",
   "nbconvert_exporter": "python",
   "pygments_lexer": "ipython3",
   "version": "3.10.12"
  },
  "papermill": {
   "default_parameters": {},
   "duration": 19.883014,
   "end_time": "2023-11-10T22:00:58.530209",
   "environment_variables": {},
   "exception": null,
   "input_path": "__notebook__.ipynb",
   "output_path": "__notebook__.ipynb",
   "parameters": {},
   "start_time": "2023-11-10T22:00:38.647195",
   "version": "2.4.0"
  }
 },
 "nbformat": 4,
 "nbformat_minor": 5
}
